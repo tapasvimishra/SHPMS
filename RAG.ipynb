{
  "nbformat": 4,
  "nbformat_minor": 0,
  "metadata": {
    "colab": {
      "provenance": [],
      "gpuType": "T4",
      "authorship_tag": "ABX9TyOH4zOrS65hijsAmsjbDiNS",
      "include_colab_link": true
    },
    "kernelspec": {
      "name": "python3",
      "display_name": "Python 3"
    },
    "language_info": {
      "name": "python"
    },
    "accelerator": "GPU",
    "widgets": {
      "application/vnd.jupyter.widget-state+json": {
        "674a9dd71703457091e751825dfdcb92": {
          "model_module": "@jupyter-widgets/controls",
          "model_name": "HBoxModel",
          "model_module_version": "1.5.0",
          "state": {
            "_dom_classes": [],
            "_model_module": "@jupyter-widgets/controls",
            "_model_module_version": "1.5.0",
            "_model_name": "HBoxModel",
            "_view_count": null,
            "_view_module": "@jupyter-widgets/controls",
            "_view_module_version": "1.5.0",
            "_view_name": "HBoxView",
            "box_style": "",
            "children": [
              "IPY_MODEL_b34683bd07784b2fbec585583ee22b1d",
              "IPY_MODEL_b22e0c118d784bba9d8f0e92894c2fe1",
              "IPY_MODEL_68adc7a1357948f9ae345c1a3dce25ce"
            ],
            "layout": "IPY_MODEL_8487a103aa6d453d83bda335ce26ec31"
          }
        },
        "b34683bd07784b2fbec585583ee22b1d": {
          "model_module": "@jupyter-widgets/controls",
          "model_name": "HTMLModel",
          "model_module_version": "1.5.0",
          "state": {
            "_dom_classes": [],
            "_model_module": "@jupyter-widgets/controls",
            "_model_module_version": "1.5.0",
            "_model_name": "HTMLModel",
            "_view_count": null,
            "_view_module": "@jupyter-widgets/controls",
            "_view_module_version": "1.5.0",
            "_view_name": "HTMLView",
            "description": "",
            "description_tooltip": null,
            "layout": "IPY_MODEL_eb923259ce544fa4850834f57afa848e",
            "placeholder": "​",
            "style": "IPY_MODEL_cb9033ebc75a46ac9ff744215d32586a",
            "value": "Loading checkpoint shards: 100%"
          }
        },
        "b22e0c118d784bba9d8f0e92894c2fe1": {
          "model_module": "@jupyter-widgets/controls",
          "model_name": "FloatProgressModel",
          "model_module_version": "1.5.0",
          "state": {
            "_dom_classes": [],
            "_model_module": "@jupyter-widgets/controls",
            "_model_module_version": "1.5.0",
            "_model_name": "FloatProgressModel",
            "_view_count": null,
            "_view_module": "@jupyter-widgets/controls",
            "_view_module_version": "1.5.0",
            "_view_name": "ProgressView",
            "bar_style": "success",
            "description": "",
            "description_tooltip": null,
            "layout": "IPY_MODEL_7b57227bec6d4e4388019f74e98abb34",
            "max": 2,
            "min": 0,
            "orientation": "horizontal",
            "style": "IPY_MODEL_289cb5bbf3b84cadbdc0e4f7794ff8ac",
            "value": 2
          }
        },
        "68adc7a1357948f9ae345c1a3dce25ce": {
          "model_module": "@jupyter-widgets/controls",
          "model_name": "HTMLModel",
          "model_module_version": "1.5.0",
          "state": {
            "_dom_classes": [],
            "_model_module": "@jupyter-widgets/controls",
            "_model_module_version": "1.5.0",
            "_model_name": "HTMLModel",
            "_view_count": null,
            "_view_module": "@jupyter-widgets/controls",
            "_view_module_version": "1.5.0",
            "_view_name": "HTMLView",
            "description": "",
            "description_tooltip": null,
            "layout": "IPY_MODEL_6da4383cecbd4c75a28abc0aaf5457f9",
            "placeholder": "​",
            "style": "IPY_MODEL_e19bfb2020dd4b78a0613eb008e53ac6",
            "value": " 2/2 [00:47&lt;00:00, 22.84s/it]"
          }
        },
        "8487a103aa6d453d83bda335ce26ec31": {
          "model_module": "@jupyter-widgets/base",
          "model_name": "LayoutModel",
          "model_module_version": "1.2.0",
          "state": {
            "_model_module": "@jupyter-widgets/base",
            "_model_module_version": "1.2.0",
            "_model_name": "LayoutModel",
            "_view_count": null,
            "_view_module": "@jupyter-widgets/base",
            "_view_module_version": "1.2.0",
            "_view_name": "LayoutView",
            "align_content": null,
            "align_items": null,
            "align_self": null,
            "border": null,
            "bottom": null,
            "display": null,
            "flex": null,
            "flex_flow": null,
            "grid_area": null,
            "grid_auto_columns": null,
            "grid_auto_flow": null,
            "grid_auto_rows": null,
            "grid_column": null,
            "grid_gap": null,
            "grid_row": null,
            "grid_template_areas": null,
            "grid_template_columns": null,
            "grid_template_rows": null,
            "height": null,
            "justify_content": null,
            "justify_items": null,
            "left": null,
            "margin": null,
            "max_height": null,
            "max_width": null,
            "min_height": null,
            "min_width": null,
            "object_fit": null,
            "object_position": null,
            "order": null,
            "overflow": null,
            "overflow_x": null,
            "overflow_y": null,
            "padding": null,
            "right": null,
            "top": null,
            "visibility": null,
            "width": null
          }
        },
        "eb923259ce544fa4850834f57afa848e": {
          "model_module": "@jupyter-widgets/base",
          "model_name": "LayoutModel",
          "model_module_version": "1.2.0",
          "state": {
            "_model_module": "@jupyter-widgets/base",
            "_model_module_version": "1.2.0",
            "_model_name": "LayoutModel",
            "_view_count": null,
            "_view_module": "@jupyter-widgets/base",
            "_view_module_version": "1.2.0",
            "_view_name": "LayoutView",
            "align_content": null,
            "align_items": null,
            "align_self": null,
            "border": null,
            "bottom": null,
            "display": null,
            "flex": null,
            "flex_flow": null,
            "grid_area": null,
            "grid_auto_columns": null,
            "grid_auto_flow": null,
            "grid_auto_rows": null,
            "grid_column": null,
            "grid_gap": null,
            "grid_row": null,
            "grid_template_areas": null,
            "grid_template_columns": null,
            "grid_template_rows": null,
            "height": null,
            "justify_content": null,
            "justify_items": null,
            "left": null,
            "margin": null,
            "max_height": null,
            "max_width": null,
            "min_height": null,
            "min_width": null,
            "object_fit": null,
            "object_position": null,
            "order": null,
            "overflow": null,
            "overflow_x": null,
            "overflow_y": null,
            "padding": null,
            "right": null,
            "top": null,
            "visibility": null,
            "width": null
          }
        },
        "cb9033ebc75a46ac9ff744215d32586a": {
          "model_module": "@jupyter-widgets/controls",
          "model_name": "DescriptionStyleModel",
          "model_module_version": "1.5.0",
          "state": {
            "_model_module": "@jupyter-widgets/controls",
            "_model_module_version": "1.5.0",
            "_model_name": "DescriptionStyleModel",
            "_view_count": null,
            "_view_module": "@jupyter-widgets/base",
            "_view_module_version": "1.2.0",
            "_view_name": "StyleView",
            "description_width": ""
          }
        },
        "7b57227bec6d4e4388019f74e98abb34": {
          "model_module": "@jupyter-widgets/base",
          "model_name": "LayoutModel",
          "model_module_version": "1.2.0",
          "state": {
            "_model_module": "@jupyter-widgets/base",
            "_model_module_version": "1.2.0",
            "_model_name": "LayoutModel",
            "_view_count": null,
            "_view_module": "@jupyter-widgets/base",
            "_view_module_version": "1.2.0",
            "_view_name": "LayoutView",
            "align_content": null,
            "align_items": null,
            "align_self": null,
            "border": null,
            "bottom": null,
            "display": null,
            "flex": null,
            "flex_flow": null,
            "grid_area": null,
            "grid_auto_columns": null,
            "grid_auto_flow": null,
            "grid_auto_rows": null,
            "grid_column": null,
            "grid_gap": null,
            "grid_row": null,
            "grid_template_areas": null,
            "grid_template_columns": null,
            "grid_template_rows": null,
            "height": null,
            "justify_content": null,
            "justify_items": null,
            "left": null,
            "margin": null,
            "max_height": null,
            "max_width": null,
            "min_height": null,
            "min_width": null,
            "object_fit": null,
            "object_position": null,
            "order": null,
            "overflow": null,
            "overflow_x": null,
            "overflow_y": null,
            "padding": null,
            "right": null,
            "top": null,
            "visibility": null,
            "width": null
          }
        },
        "289cb5bbf3b84cadbdc0e4f7794ff8ac": {
          "model_module": "@jupyter-widgets/controls",
          "model_name": "ProgressStyleModel",
          "model_module_version": "1.5.0",
          "state": {
            "_model_module": "@jupyter-widgets/controls",
            "_model_module_version": "1.5.0",
            "_model_name": "ProgressStyleModel",
            "_view_count": null,
            "_view_module": "@jupyter-widgets/base",
            "_view_module_version": "1.2.0",
            "_view_name": "StyleView",
            "bar_color": null,
            "description_width": ""
          }
        },
        "6da4383cecbd4c75a28abc0aaf5457f9": {
          "model_module": "@jupyter-widgets/base",
          "model_name": "LayoutModel",
          "model_module_version": "1.2.0",
          "state": {
            "_model_module": "@jupyter-widgets/base",
            "_model_module_version": "1.2.0",
            "_model_name": "LayoutModel",
            "_view_count": null,
            "_view_module": "@jupyter-widgets/base",
            "_view_module_version": "1.2.0",
            "_view_name": "LayoutView",
            "align_content": null,
            "align_items": null,
            "align_self": null,
            "border": null,
            "bottom": null,
            "display": null,
            "flex": null,
            "flex_flow": null,
            "grid_area": null,
            "grid_auto_columns": null,
            "grid_auto_flow": null,
            "grid_auto_rows": null,
            "grid_column": null,
            "grid_gap": null,
            "grid_row": null,
            "grid_template_areas": null,
            "grid_template_columns": null,
            "grid_template_rows": null,
            "height": null,
            "justify_content": null,
            "justify_items": null,
            "left": null,
            "margin": null,
            "max_height": null,
            "max_width": null,
            "min_height": null,
            "min_width": null,
            "object_fit": null,
            "object_position": null,
            "order": null,
            "overflow": null,
            "overflow_x": null,
            "overflow_y": null,
            "padding": null,
            "right": null,
            "top": null,
            "visibility": null,
            "width": null
          }
        },
        "e19bfb2020dd4b78a0613eb008e53ac6": {
          "model_module": "@jupyter-widgets/controls",
          "model_name": "DescriptionStyleModel",
          "model_module_version": "1.5.0",
          "state": {
            "_model_module": "@jupyter-widgets/controls",
            "_model_module_version": "1.5.0",
            "_model_name": "DescriptionStyleModel",
            "_view_count": null,
            "_view_module": "@jupyter-widgets/base",
            "_view_module_version": "1.2.0",
            "_view_name": "StyleView",
            "description_width": ""
          }
        }
      }
    }
  },
  "cells": [
    {
      "cell_type": "markdown",
      "metadata": {
        "id": "view-in-github",
        "colab_type": "text"
      },
      "source": [
        "<a href=\"https://colab.research.google.com/github/tapasvimishra/SHPMS/blob/main/RAG.ipynb\" target=\"_parent\"><img src=\"https://colab.research.google.com/assets/colab-badge.svg\" alt=\"Open In Colab\"/></a>"
      ]
    },
    {
      "cell_type": "code",
      "execution_count": 2,
      "metadata": {
        "colab": {
          "base_uri": "https://localhost:8080/"
        },
        "id": "cG0XbkTRTWVF",
        "outputId": "6b8ae71c-54db-4e52-9346-861f758617a2"
      },
      "outputs": [
        {
          "output_type": "stream",
          "name": "stdout",
          "text": [
            "Requirement already satisfied: pypdf in /usr/local/lib/python3.10/dist-packages (4.3.1)\n",
            "Requirement already satisfied: typing_extensions>=4.0 in /usr/local/lib/python3.10/dist-packages (from pypdf) (4.12.2)\n"
          ]
        }
      ],
      "source": [
        "!pip install pypdf"
      ]
    },
    {
      "cell_type": "code",
      "source": [
        "!pip install -q transformers einops accelerate langchain bitsandbytes"
      ],
      "metadata": {
        "id": "w2TME7MyUIlo"
      },
      "execution_count": 3,
      "outputs": []
    },
    {
      "cell_type": "code",
      "source": [
        "## Embedding\n",
        "!pip install sentence-transformers"
      ],
      "metadata": {
        "colab": {
          "base_uri": "https://localhost:8080/"
        },
        "id": "ay_RftxkUOf9",
        "outputId": "cef61177-29d5-4007-e0f3-9678068bee87"
      },
      "execution_count": 4,
      "outputs": [
        {
          "output_type": "stream",
          "name": "stdout",
          "text": [
            "Requirement already satisfied: sentence-transformers in /usr/local/lib/python3.10/dist-packages (3.2.0)\n",
            "Requirement already satisfied: transformers<5.0.0,>=4.41.0 in /usr/local/lib/python3.10/dist-packages (from sentence-transformers) (4.44.2)\n",
            "Requirement already satisfied: tqdm in /usr/local/lib/python3.10/dist-packages (from sentence-transformers) (4.66.5)\n",
            "Requirement already satisfied: torch>=1.11.0 in /usr/local/lib/python3.10/dist-packages (from sentence-transformers) (2.4.1+cu121)\n",
            "Requirement already satisfied: scikit-learn in /usr/local/lib/python3.10/dist-packages (from sentence-transformers) (1.5.2)\n",
            "Requirement already satisfied: scipy in /usr/local/lib/python3.10/dist-packages (from sentence-transformers) (1.13.1)\n",
            "Requirement already satisfied: huggingface-hub>=0.20.0 in /usr/local/lib/python3.10/dist-packages (from sentence-transformers) (0.23.5)\n",
            "Requirement already satisfied: Pillow in /usr/local/lib/python3.10/dist-packages (from sentence-transformers) (10.4.0)\n",
            "Requirement already satisfied: filelock in /usr/local/lib/python3.10/dist-packages (from huggingface-hub>=0.20.0->sentence-transformers) (3.16.1)\n",
            "Requirement already satisfied: fsspec>=2023.5.0 in /usr/local/lib/python3.10/dist-packages (from huggingface-hub>=0.20.0->sentence-transformers) (2024.6.1)\n",
            "Requirement already satisfied: packaging>=20.9 in /usr/local/lib/python3.10/dist-packages (from huggingface-hub>=0.20.0->sentence-transformers) (24.1)\n",
            "Requirement already satisfied: pyyaml>=5.1 in /usr/local/lib/python3.10/dist-packages (from huggingface-hub>=0.20.0->sentence-transformers) (6.0.2)\n",
            "Requirement already satisfied: requests in /usr/local/lib/python3.10/dist-packages (from huggingface-hub>=0.20.0->sentence-transformers) (2.32.3)\n",
            "Requirement already satisfied: typing-extensions>=3.7.4.3 in /usr/local/lib/python3.10/dist-packages (from huggingface-hub>=0.20.0->sentence-transformers) (4.12.2)\n",
            "Requirement already satisfied: sympy in /usr/local/lib/python3.10/dist-packages (from torch>=1.11.0->sentence-transformers) (1.13.3)\n",
            "Requirement already satisfied: networkx in /usr/local/lib/python3.10/dist-packages (from torch>=1.11.0->sentence-transformers) (3.4.1)\n",
            "Requirement already satisfied: jinja2 in /usr/local/lib/python3.10/dist-packages (from torch>=1.11.0->sentence-transformers) (3.1.4)\n",
            "Requirement already satisfied: numpy>=1.17 in /usr/local/lib/python3.10/dist-packages (from transformers<5.0.0,>=4.41.0->sentence-transformers) (1.26.4)\n",
            "Requirement already satisfied: regex!=2019.12.17 in /usr/local/lib/python3.10/dist-packages (from transformers<5.0.0,>=4.41.0->sentence-transformers) (2024.9.11)\n",
            "Requirement already satisfied: safetensors>=0.4.1 in /usr/local/lib/python3.10/dist-packages (from transformers<5.0.0,>=4.41.0->sentence-transformers) (0.4.5)\n",
            "Requirement already satisfied: tokenizers<0.20,>=0.19 in /usr/local/lib/python3.10/dist-packages (from transformers<5.0.0,>=4.41.0->sentence-transformers) (0.19.1)\n",
            "Requirement already satisfied: joblib>=1.2.0 in /usr/local/lib/python3.10/dist-packages (from scikit-learn->sentence-transformers) (1.4.2)\n",
            "Requirement already satisfied: threadpoolctl>=3.1.0 in /usr/local/lib/python3.10/dist-packages (from scikit-learn->sentence-transformers) (3.5.0)\n",
            "Requirement already satisfied: MarkupSafe>=2.0 in /usr/local/lib/python3.10/dist-packages (from jinja2->torch>=1.11.0->sentence-transformers) (3.0.1)\n",
            "Requirement already satisfied: charset-normalizer<4,>=2 in /usr/local/lib/python3.10/dist-packages (from requests->huggingface-hub>=0.20.0->sentence-transformers) (3.4.0)\n",
            "Requirement already satisfied: idna<4,>=2.5 in /usr/local/lib/python3.10/dist-packages (from requests->huggingface-hub>=0.20.0->sentence-transformers) (3.10)\n",
            "Requirement already satisfied: urllib3<3,>=1.21.1 in /usr/local/lib/python3.10/dist-packages (from requests->huggingface-hub>=0.20.0->sentence-transformers) (2.2.3)\n",
            "Requirement already satisfied: certifi>=2017.4.17 in /usr/local/lib/python3.10/dist-packages (from requests->huggingface-hub>=0.20.0->sentence-transformers) (2024.8.30)\n",
            "Requirement already satisfied: mpmath<1.4,>=1.1.0 in /usr/local/lib/python3.10/dist-packages (from sympy->torch>=1.11.0->sentence-transformers) (1.3.0)\n"
          ]
        }
      ]
    },
    {
      "cell_type": "code",
      "source": [
        "!pip install llama_index"
      ],
      "metadata": {
        "colab": {
          "base_uri": "https://localhost:8080/"
        },
        "id": "_Ky-JdLPU39X",
        "outputId": "163301c1-4b27-4301-cbc6-33ce42b6b45a"
      },
      "execution_count": 5,
      "outputs": [
        {
          "output_type": "stream",
          "name": "stdout",
          "text": [
            "Requirement already satisfied: llama_index in /usr/local/lib/python3.10/dist-packages (0.11.19)\n",
            "Requirement already satisfied: llama-index-agent-openai<0.4.0,>=0.3.4 in /usr/local/lib/python3.10/dist-packages (from llama_index) (0.3.4)\n",
            "Requirement already satisfied: llama-index-cli<0.4.0,>=0.3.1 in /usr/local/lib/python3.10/dist-packages (from llama_index) (0.3.1)\n",
            "Requirement already satisfied: llama-index-core<0.12.0,>=0.11.19 in /usr/local/lib/python3.10/dist-packages (from llama_index) (0.11.19)\n",
            "Requirement already satisfied: llama-index-embeddings-openai<0.3.0,>=0.2.4 in /usr/local/lib/python3.10/dist-packages (from llama_index) (0.2.5)\n",
            "Requirement already satisfied: llama-index-indices-managed-llama-cloud>=0.3.0 in /usr/local/lib/python3.10/dist-packages (from llama_index) (0.4.0)\n",
            "Requirement already satisfied: llama-index-legacy<0.10.0,>=0.9.48 in /usr/local/lib/python3.10/dist-packages (from llama_index) (0.9.48.post3)\n",
            "Requirement already satisfied: llama-index-llms-openai<0.3.0,>=0.2.10 in /usr/local/lib/python3.10/dist-packages (from llama_index) (0.2.15)\n",
            "Requirement already satisfied: llama-index-multi-modal-llms-openai<0.3.0,>=0.2.0 in /usr/local/lib/python3.10/dist-packages (from llama_index) (0.2.2)\n",
            "Requirement already satisfied: llama-index-program-openai<0.3.0,>=0.2.0 in /usr/local/lib/python3.10/dist-packages (from llama_index) (0.2.0)\n",
            "Requirement already satisfied: llama-index-question-gen-openai<0.3.0,>=0.2.0 in /usr/local/lib/python3.10/dist-packages (from llama_index) (0.2.0)\n",
            "Requirement already satisfied: llama-index-readers-file<0.3.0,>=0.2.0 in /usr/local/lib/python3.10/dist-packages (from llama_index) (0.2.2)\n",
            "Requirement already satisfied: llama-index-readers-llama-parse>=0.3.0 in /usr/local/lib/python3.10/dist-packages (from llama_index) (0.3.0)\n",
            "Requirement already satisfied: nltk>3.8.1 in /usr/local/lib/python3.10/dist-packages (from llama_index) (3.9.1)\n",
            "Requirement already satisfied: openai>=1.14.0 in /usr/local/lib/python3.10/dist-packages (from llama-index-agent-openai<0.4.0,>=0.3.4->llama_index) (1.52.0)\n",
            "Requirement already satisfied: PyYAML>=6.0.1 in /usr/local/lib/python3.10/dist-packages (from llama-index-core<0.12.0,>=0.11.19->llama_index) (6.0.2)\n",
            "Requirement already satisfied: SQLAlchemy>=1.4.49 in /usr/local/lib/python3.10/dist-packages (from SQLAlchemy[asyncio]>=1.4.49->llama-index-core<0.12.0,>=0.11.19->llama_index) (2.0.36)\n",
            "Requirement already satisfied: aiohttp<4.0.0,>=3.8.6 in /usr/local/lib/python3.10/dist-packages (from llama-index-core<0.12.0,>=0.11.19->llama_index) (3.10.10)\n",
            "Requirement already satisfied: dataclasses-json in /usr/local/lib/python3.10/dist-packages (from llama-index-core<0.12.0,>=0.11.19->llama_index) (0.6.7)\n",
            "Requirement already satisfied: deprecated>=1.2.9.3 in /usr/local/lib/python3.10/dist-packages (from llama-index-core<0.12.0,>=0.11.19->llama_index) (1.2.14)\n",
            "Requirement already satisfied: dirtyjson<2.0.0,>=1.0.8 in /usr/local/lib/python3.10/dist-packages (from llama-index-core<0.12.0,>=0.11.19->llama_index) (1.0.8)\n",
            "Requirement already satisfied: fsspec>=2023.5.0 in /usr/local/lib/python3.10/dist-packages (from llama-index-core<0.12.0,>=0.11.19->llama_index) (2024.6.1)\n",
            "Requirement already satisfied: httpx in /usr/local/lib/python3.10/dist-packages (from llama-index-core<0.12.0,>=0.11.19->llama_index) (0.27.2)\n",
            "Requirement already satisfied: nest-asyncio<2.0.0,>=1.5.8 in /usr/local/lib/python3.10/dist-packages (from llama-index-core<0.12.0,>=0.11.19->llama_index) (1.6.0)\n",
            "Requirement already satisfied: networkx>=3.0 in /usr/local/lib/python3.10/dist-packages (from llama-index-core<0.12.0,>=0.11.19->llama_index) (3.4.1)\n",
            "Requirement already satisfied: numpy<2.0.0 in /usr/local/lib/python3.10/dist-packages (from llama-index-core<0.12.0,>=0.11.19->llama_index) (1.26.4)\n",
            "Requirement already satisfied: pillow>=9.0.0 in /usr/local/lib/python3.10/dist-packages (from llama-index-core<0.12.0,>=0.11.19->llama_index) (10.4.0)\n",
            "Requirement already satisfied: pydantic<3.0.0,>=2.7.0 in /usr/local/lib/python3.10/dist-packages (from llama-index-core<0.12.0,>=0.11.19->llama_index) (2.9.2)\n",
            "Requirement already satisfied: requests>=2.31.0 in /usr/local/lib/python3.10/dist-packages (from llama-index-core<0.12.0,>=0.11.19->llama_index) (2.32.3)\n",
            "Requirement already satisfied: tenacity!=8.4.0,<9.0.0,>=8.2.0 in /usr/local/lib/python3.10/dist-packages (from llama-index-core<0.12.0,>=0.11.19->llama_index) (8.5.0)\n",
            "Requirement already satisfied: tiktoken>=0.3.3 in /usr/local/lib/python3.10/dist-packages (from llama-index-core<0.12.0,>=0.11.19->llama_index) (0.8.0)\n",
            "Requirement already satisfied: tqdm<5.0.0,>=4.66.1 in /usr/local/lib/python3.10/dist-packages (from llama-index-core<0.12.0,>=0.11.19->llama_index) (4.66.5)\n",
            "Requirement already satisfied: typing-extensions>=4.5.0 in /usr/local/lib/python3.10/dist-packages (from llama-index-core<0.12.0,>=0.11.19->llama_index) (4.12.2)\n",
            "Requirement already satisfied: typing-inspect>=0.8.0 in /usr/local/lib/python3.10/dist-packages (from llama-index-core<0.12.0,>=0.11.19->llama_index) (0.9.0)\n",
            "Requirement already satisfied: wrapt in /usr/local/lib/python3.10/dist-packages (from llama-index-core<0.12.0,>=0.11.19->llama_index) (1.16.0)\n",
            "Requirement already satisfied: llama-cloud>=0.0.11 in /usr/local/lib/python3.10/dist-packages (from llama-index-indices-managed-llama-cloud>=0.3.0->llama_index) (0.1.4)\n",
            "Requirement already satisfied: pandas in /usr/local/lib/python3.10/dist-packages (from llama-index-legacy<0.10.0,>=0.9.48->llama_index) (2.2.2)\n",
            "Requirement already satisfied: beautifulsoup4<5.0.0,>=4.12.3 in /usr/local/lib/python3.10/dist-packages (from llama-index-readers-file<0.3.0,>=0.2.0->llama_index) (4.12.3)\n",
            "Requirement already satisfied: pypdf<5.0.0,>=4.0.1 in /usr/local/lib/python3.10/dist-packages (from llama-index-readers-file<0.3.0,>=0.2.0->llama_index) (4.3.1)\n",
            "Requirement already satisfied: striprtf<0.0.27,>=0.0.26 in /usr/local/lib/python3.10/dist-packages (from llama-index-readers-file<0.3.0,>=0.2.0->llama_index) (0.0.26)\n",
            "Requirement already satisfied: llama-parse>=0.5.0 in /usr/local/lib/python3.10/dist-packages (from llama-index-readers-llama-parse>=0.3.0->llama_index) (0.5.10)\n",
            "Requirement already satisfied: click in /usr/local/lib/python3.10/dist-packages (from nltk>3.8.1->llama_index) (8.1.7)\n",
            "Requirement already satisfied: joblib in /usr/local/lib/python3.10/dist-packages (from nltk>3.8.1->llama_index) (1.4.2)\n",
            "Requirement already satisfied: regex>=2021.8.3 in /usr/local/lib/python3.10/dist-packages (from nltk>3.8.1->llama_index) (2024.9.11)\n",
            "Requirement already satisfied: aiohappyeyeballs>=2.3.0 in /usr/local/lib/python3.10/dist-packages (from aiohttp<4.0.0,>=3.8.6->llama-index-core<0.12.0,>=0.11.19->llama_index) (2.4.3)\n",
            "Requirement already satisfied: aiosignal>=1.1.2 in /usr/local/lib/python3.10/dist-packages (from aiohttp<4.0.0,>=3.8.6->llama-index-core<0.12.0,>=0.11.19->llama_index) (1.3.1)\n",
            "Requirement already satisfied: attrs>=17.3.0 in /usr/local/lib/python3.10/dist-packages (from aiohttp<4.0.0,>=3.8.6->llama-index-core<0.12.0,>=0.11.19->llama_index) (24.2.0)\n",
            "Requirement already satisfied: frozenlist>=1.1.1 in /usr/local/lib/python3.10/dist-packages (from aiohttp<4.0.0,>=3.8.6->llama-index-core<0.12.0,>=0.11.19->llama_index) (1.4.1)\n",
            "Requirement already satisfied: multidict<7.0,>=4.5 in /usr/local/lib/python3.10/dist-packages (from aiohttp<4.0.0,>=3.8.6->llama-index-core<0.12.0,>=0.11.19->llama_index) (6.1.0)\n",
            "Requirement already satisfied: yarl<2.0,>=1.12.0 in /usr/local/lib/python3.10/dist-packages (from aiohttp<4.0.0,>=3.8.6->llama-index-core<0.12.0,>=0.11.19->llama_index) (1.15.2)\n",
            "Requirement already satisfied: async-timeout<5.0,>=4.0 in /usr/local/lib/python3.10/dist-packages (from aiohttp<4.0.0,>=3.8.6->llama-index-core<0.12.0,>=0.11.19->llama_index) (4.0.3)\n",
            "Requirement already satisfied: soupsieve>1.2 in /usr/local/lib/python3.10/dist-packages (from beautifulsoup4<5.0.0,>=4.12.3->llama-index-readers-file<0.3.0,>=0.2.0->llama_index) (2.6)\n",
            "Requirement already satisfied: anyio in /usr/local/lib/python3.10/dist-packages (from httpx->llama-index-core<0.12.0,>=0.11.19->llama_index) (3.7.1)\n",
            "Requirement already satisfied: certifi in /usr/local/lib/python3.10/dist-packages (from httpx->llama-index-core<0.12.0,>=0.11.19->llama_index) (2024.8.30)\n",
            "Requirement already satisfied: httpcore==1.* in /usr/local/lib/python3.10/dist-packages (from httpx->llama-index-core<0.12.0,>=0.11.19->llama_index) (1.0.6)\n",
            "Requirement already satisfied: idna in /usr/local/lib/python3.10/dist-packages (from httpx->llama-index-core<0.12.0,>=0.11.19->llama_index) (3.10)\n",
            "Requirement already satisfied: sniffio in /usr/local/lib/python3.10/dist-packages (from httpx->llama-index-core<0.12.0,>=0.11.19->llama_index) (1.3.1)\n",
            "Requirement already satisfied: h11<0.15,>=0.13 in /usr/local/lib/python3.10/dist-packages (from httpcore==1.*->httpx->llama-index-core<0.12.0,>=0.11.19->llama_index) (0.14.0)\n",
            "Requirement already satisfied: distro<2,>=1.7.0 in /usr/lib/python3/dist-packages (from openai>=1.14.0->llama-index-agent-openai<0.4.0,>=0.3.4->llama_index) (1.7.0)\n",
            "Requirement already satisfied: jiter<1,>=0.4.0 in /usr/local/lib/python3.10/dist-packages (from openai>=1.14.0->llama-index-agent-openai<0.4.0,>=0.3.4->llama_index) (0.6.1)\n",
            "Requirement already satisfied: annotated-types>=0.6.0 in /usr/local/lib/python3.10/dist-packages (from pydantic<3.0.0,>=2.7.0->llama-index-core<0.12.0,>=0.11.19->llama_index) (0.7.0)\n",
            "Requirement already satisfied: pydantic-core==2.23.4 in /usr/local/lib/python3.10/dist-packages (from pydantic<3.0.0,>=2.7.0->llama-index-core<0.12.0,>=0.11.19->llama_index) (2.23.4)\n",
            "Requirement already satisfied: charset-normalizer<4,>=2 in /usr/local/lib/python3.10/dist-packages (from requests>=2.31.0->llama-index-core<0.12.0,>=0.11.19->llama_index) (3.4.0)\n",
            "Requirement already satisfied: urllib3<3,>=1.21.1 in /usr/local/lib/python3.10/dist-packages (from requests>=2.31.0->llama-index-core<0.12.0,>=0.11.19->llama_index) (2.2.3)\n",
            "Requirement already satisfied: greenlet!=0.4.17 in /usr/local/lib/python3.10/dist-packages (from SQLAlchemy>=1.4.49->SQLAlchemy[asyncio]>=1.4.49->llama-index-core<0.12.0,>=0.11.19->llama_index) (3.1.1)\n",
            "Requirement already satisfied: mypy-extensions>=0.3.0 in /usr/local/lib/python3.10/dist-packages (from typing-inspect>=0.8.0->llama-index-core<0.12.0,>=0.11.19->llama_index) (1.0.0)\n",
            "Requirement already satisfied: marshmallow<4.0.0,>=3.18.0 in /usr/local/lib/python3.10/dist-packages (from dataclasses-json->llama-index-core<0.12.0,>=0.11.19->llama_index) (3.23.0)\n",
            "Requirement already satisfied: python-dateutil>=2.8.2 in /usr/local/lib/python3.10/dist-packages (from pandas->llama-index-legacy<0.10.0,>=0.9.48->llama_index) (2.8.2)\n",
            "Requirement already satisfied: pytz>=2020.1 in /usr/local/lib/python3.10/dist-packages (from pandas->llama-index-legacy<0.10.0,>=0.9.48->llama_index) (2024.2)\n",
            "Requirement already satisfied: tzdata>=2022.7 in /usr/local/lib/python3.10/dist-packages (from pandas->llama-index-legacy<0.10.0,>=0.9.48->llama_index) (2024.2)\n",
            "Requirement already satisfied: exceptiongroup in /usr/local/lib/python3.10/dist-packages (from anyio->httpx->llama-index-core<0.12.0,>=0.11.19->llama_index) (1.2.2)\n",
            "Requirement already satisfied: packaging>=17.0 in /usr/local/lib/python3.10/dist-packages (from marshmallow<4.0.0,>=3.18.0->dataclasses-json->llama-index-core<0.12.0,>=0.11.19->llama_index) (24.1)\n",
            "Requirement already satisfied: six>=1.5 in /usr/local/lib/python3.10/dist-packages (from python-dateutil>=2.8.2->pandas->llama-index-legacy<0.10.0,>=0.9.48->llama_index) (1.16.0)\n",
            "Requirement already satisfied: propcache>=0.2.0 in /usr/local/lib/python3.10/dist-packages (from yarl<2.0,>=1.12.0->aiohttp<4.0.0,>=3.8.6->llama-index-core<0.12.0,>=0.11.19->llama_index) (0.2.0)\n"
          ]
        }
      ]
    },
    {
      "cell_type": "code",
      "source": [
        "!pip install llama-index-llms-huggingface"
      ],
      "metadata": {
        "colab": {
          "base_uri": "https://localhost:8080/"
        },
        "id": "ydm0K0yDU7-m",
        "outputId": "b7d469e3-2b8a-4d99-a1f6-9ae538caf829"
      },
      "execution_count": 6,
      "outputs": [
        {
          "output_type": "stream",
          "name": "stdout",
          "text": [
            "Requirement already satisfied: llama-index-llms-huggingface in /usr/local/lib/python3.10/dist-packages (0.3.5)\n",
            "Requirement already satisfied: huggingface-hub<0.24.0,>=0.23.0 in /usr/local/lib/python3.10/dist-packages (from llama-index-llms-huggingface) (0.23.5)\n",
            "Requirement already satisfied: llama-index-core<0.12.0,>=0.11.0 in /usr/local/lib/python3.10/dist-packages (from llama-index-llms-huggingface) (0.11.19)\n",
            "Requirement already satisfied: text-generation<0.8.0,>=0.7.0 in /usr/local/lib/python3.10/dist-packages (from llama-index-llms-huggingface) (0.7.0)\n",
            "Requirement already satisfied: torch<3.0.0,>=2.1.2 in /usr/local/lib/python3.10/dist-packages (from llama-index-llms-huggingface) (2.4.1+cu121)\n",
            "Requirement already satisfied: transformers<5.0.0,>=4.37.0 in /usr/local/lib/python3.10/dist-packages (from transformers[torch]<5.0.0,>=4.37.0->llama-index-llms-huggingface) (4.44.2)\n",
            "Requirement already satisfied: filelock in /usr/local/lib/python3.10/dist-packages (from huggingface-hub<0.24.0,>=0.23.0->llama-index-llms-huggingface) (3.16.1)\n",
            "Requirement already satisfied: fsspec>=2023.5.0 in /usr/local/lib/python3.10/dist-packages (from huggingface-hub<0.24.0,>=0.23.0->llama-index-llms-huggingface) (2024.6.1)\n",
            "Requirement already satisfied: packaging>=20.9 in /usr/local/lib/python3.10/dist-packages (from huggingface-hub<0.24.0,>=0.23.0->llama-index-llms-huggingface) (24.1)\n",
            "Requirement already satisfied: pyyaml>=5.1 in /usr/local/lib/python3.10/dist-packages (from huggingface-hub<0.24.0,>=0.23.0->llama-index-llms-huggingface) (6.0.2)\n",
            "Requirement already satisfied: requests in /usr/local/lib/python3.10/dist-packages (from huggingface-hub<0.24.0,>=0.23.0->llama-index-llms-huggingface) (2.32.3)\n",
            "Requirement already satisfied: tqdm>=4.42.1 in /usr/local/lib/python3.10/dist-packages (from huggingface-hub<0.24.0,>=0.23.0->llama-index-llms-huggingface) (4.66.5)\n",
            "Requirement already satisfied: typing-extensions>=3.7.4.3 in /usr/local/lib/python3.10/dist-packages (from huggingface-hub<0.24.0,>=0.23.0->llama-index-llms-huggingface) (4.12.2)\n",
            "Requirement already satisfied: SQLAlchemy>=1.4.49 in /usr/local/lib/python3.10/dist-packages (from SQLAlchemy[asyncio]>=1.4.49->llama-index-core<0.12.0,>=0.11.0->llama-index-llms-huggingface) (2.0.36)\n",
            "Requirement already satisfied: aiohttp<4.0.0,>=3.8.6 in /usr/local/lib/python3.10/dist-packages (from llama-index-core<0.12.0,>=0.11.0->llama-index-llms-huggingface) (3.10.10)\n",
            "Requirement already satisfied: dataclasses-json in /usr/local/lib/python3.10/dist-packages (from llama-index-core<0.12.0,>=0.11.0->llama-index-llms-huggingface) (0.6.7)\n",
            "Requirement already satisfied: deprecated>=1.2.9.3 in /usr/local/lib/python3.10/dist-packages (from llama-index-core<0.12.0,>=0.11.0->llama-index-llms-huggingface) (1.2.14)\n",
            "Requirement already satisfied: dirtyjson<2.0.0,>=1.0.8 in /usr/local/lib/python3.10/dist-packages (from llama-index-core<0.12.0,>=0.11.0->llama-index-llms-huggingface) (1.0.8)\n",
            "Requirement already satisfied: httpx in /usr/local/lib/python3.10/dist-packages (from llama-index-core<0.12.0,>=0.11.0->llama-index-llms-huggingface) (0.27.2)\n",
            "Requirement already satisfied: nest-asyncio<2.0.0,>=1.5.8 in /usr/local/lib/python3.10/dist-packages (from llama-index-core<0.12.0,>=0.11.0->llama-index-llms-huggingface) (1.6.0)\n",
            "Requirement already satisfied: networkx>=3.0 in /usr/local/lib/python3.10/dist-packages (from llama-index-core<0.12.0,>=0.11.0->llama-index-llms-huggingface) (3.4.1)\n",
            "Requirement already satisfied: nltk>3.8.1 in /usr/local/lib/python3.10/dist-packages (from llama-index-core<0.12.0,>=0.11.0->llama-index-llms-huggingface) (3.9.1)\n",
            "Requirement already satisfied: numpy<2.0.0 in /usr/local/lib/python3.10/dist-packages (from llama-index-core<0.12.0,>=0.11.0->llama-index-llms-huggingface) (1.26.4)\n",
            "Requirement already satisfied: pillow>=9.0.0 in /usr/local/lib/python3.10/dist-packages (from llama-index-core<0.12.0,>=0.11.0->llama-index-llms-huggingface) (10.4.0)\n",
            "Requirement already satisfied: pydantic<3.0.0,>=2.7.0 in /usr/local/lib/python3.10/dist-packages (from llama-index-core<0.12.0,>=0.11.0->llama-index-llms-huggingface) (2.9.2)\n",
            "Requirement already satisfied: tenacity!=8.4.0,<9.0.0,>=8.2.0 in /usr/local/lib/python3.10/dist-packages (from llama-index-core<0.12.0,>=0.11.0->llama-index-llms-huggingface) (8.5.0)\n",
            "Requirement already satisfied: tiktoken>=0.3.3 in /usr/local/lib/python3.10/dist-packages (from llama-index-core<0.12.0,>=0.11.0->llama-index-llms-huggingface) (0.8.0)\n",
            "Requirement already satisfied: typing-inspect>=0.8.0 in /usr/local/lib/python3.10/dist-packages (from llama-index-core<0.12.0,>=0.11.0->llama-index-llms-huggingface) (0.9.0)\n",
            "Requirement already satisfied: wrapt in /usr/local/lib/python3.10/dist-packages (from llama-index-core<0.12.0,>=0.11.0->llama-index-llms-huggingface) (1.16.0)\n",
            "Requirement already satisfied: sympy in /usr/local/lib/python3.10/dist-packages (from torch<3.0.0,>=2.1.2->llama-index-llms-huggingface) (1.13.3)\n",
            "Requirement already satisfied: jinja2 in /usr/local/lib/python3.10/dist-packages (from torch<3.0.0,>=2.1.2->llama-index-llms-huggingface) (3.1.4)\n",
            "Requirement already satisfied: regex!=2019.12.17 in /usr/local/lib/python3.10/dist-packages (from transformers<5.0.0,>=4.37.0->transformers[torch]<5.0.0,>=4.37.0->llama-index-llms-huggingface) (2024.9.11)\n",
            "Requirement already satisfied: safetensors>=0.4.1 in /usr/local/lib/python3.10/dist-packages (from transformers<5.0.0,>=4.37.0->transformers[torch]<5.0.0,>=4.37.0->llama-index-llms-huggingface) (0.4.5)\n",
            "Requirement already satisfied: tokenizers<0.20,>=0.19 in /usr/local/lib/python3.10/dist-packages (from transformers<5.0.0,>=4.37.0->transformers[torch]<5.0.0,>=4.37.0->llama-index-llms-huggingface) (0.19.1)\n",
            "Requirement already satisfied: accelerate>=0.21.0 in /usr/local/lib/python3.10/dist-packages (from transformers[torch]<5.0.0,>=4.37.0->llama-index-llms-huggingface) (0.34.2)\n",
            "Requirement already satisfied: psutil in /usr/local/lib/python3.10/dist-packages (from accelerate>=0.21.0->transformers[torch]<5.0.0,>=4.37.0->llama-index-llms-huggingface) (5.9.5)\n",
            "Requirement already satisfied: aiohappyeyeballs>=2.3.0 in /usr/local/lib/python3.10/dist-packages (from aiohttp<4.0.0,>=3.8.6->llama-index-core<0.12.0,>=0.11.0->llama-index-llms-huggingface) (2.4.3)\n",
            "Requirement already satisfied: aiosignal>=1.1.2 in /usr/local/lib/python3.10/dist-packages (from aiohttp<4.0.0,>=3.8.6->llama-index-core<0.12.0,>=0.11.0->llama-index-llms-huggingface) (1.3.1)\n",
            "Requirement already satisfied: attrs>=17.3.0 in /usr/local/lib/python3.10/dist-packages (from aiohttp<4.0.0,>=3.8.6->llama-index-core<0.12.0,>=0.11.0->llama-index-llms-huggingface) (24.2.0)\n",
            "Requirement already satisfied: frozenlist>=1.1.1 in /usr/local/lib/python3.10/dist-packages (from aiohttp<4.0.0,>=3.8.6->llama-index-core<0.12.0,>=0.11.0->llama-index-llms-huggingface) (1.4.1)\n",
            "Requirement already satisfied: multidict<7.0,>=4.5 in /usr/local/lib/python3.10/dist-packages (from aiohttp<4.0.0,>=3.8.6->llama-index-core<0.12.0,>=0.11.0->llama-index-llms-huggingface) (6.1.0)\n",
            "Requirement already satisfied: yarl<2.0,>=1.12.0 in /usr/local/lib/python3.10/dist-packages (from aiohttp<4.0.0,>=3.8.6->llama-index-core<0.12.0,>=0.11.0->llama-index-llms-huggingface) (1.15.2)\n",
            "Requirement already satisfied: async-timeout<5.0,>=4.0 in /usr/local/lib/python3.10/dist-packages (from aiohttp<4.0.0,>=3.8.6->llama-index-core<0.12.0,>=0.11.0->llama-index-llms-huggingface) (4.0.3)\n",
            "Requirement already satisfied: click in /usr/local/lib/python3.10/dist-packages (from nltk>3.8.1->llama-index-core<0.12.0,>=0.11.0->llama-index-llms-huggingface) (8.1.7)\n",
            "Requirement already satisfied: joblib in /usr/local/lib/python3.10/dist-packages (from nltk>3.8.1->llama-index-core<0.12.0,>=0.11.0->llama-index-llms-huggingface) (1.4.2)\n",
            "Requirement already satisfied: annotated-types>=0.6.0 in /usr/local/lib/python3.10/dist-packages (from pydantic<3.0.0,>=2.7.0->llama-index-core<0.12.0,>=0.11.0->llama-index-llms-huggingface) (0.7.0)\n",
            "Requirement already satisfied: pydantic-core==2.23.4 in /usr/local/lib/python3.10/dist-packages (from pydantic<3.0.0,>=2.7.0->llama-index-core<0.12.0,>=0.11.0->llama-index-llms-huggingface) (2.23.4)\n",
            "Requirement already satisfied: charset-normalizer<4,>=2 in /usr/local/lib/python3.10/dist-packages (from requests->huggingface-hub<0.24.0,>=0.23.0->llama-index-llms-huggingface) (3.4.0)\n",
            "Requirement already satisfied: idna<4,>=2.5 in /usr/local/lib/python3.10/dist-packages (from requests->huggingface-hub<0.24.0,>=0.23.0->llama-index-llms-huggingface) (3.10)\n",
            "Requirement already satisfied: urllib3<3,>=1.21.1 in /usr/local/lib/python3.10/dist-packages (from requests->huggingface-hub<0.24.0,>=0.23.0->llama-index-llms-huggingface) (2.2.3)\n",
            "Requirement already satisfied: certifi>=2017.4.17 in /usr/local/lib/python3.10/dist-packages (from requests->huggingface-hub<0.24.0,>=0.23.0->llama-index-llms-huggingface) (2024.8.30)\n",
            "Requirement already satisfied: greenlet!=0.4.17 in /usr/local/lib/python3.10/dist-packages (from SQLAlchemy>=1.4.49->SQLAlchemy[asyncio]>=1.4.49->llama-index-core<0.12.0,>=0.11.0->llama-index-llms-huggingface) (3.1.1)\n",
            "Requirement already satisfied: mypy-extensions>=0.3.0 in /usr/local/lib/python3.10/dist-packages (from typing-inspect>=0.8.0->llama-index-core<0.12.0,>=0.11.0->llama-index-llms-huggingface) (1.0.0)\n",
            "Requirement already satisfied: marshmallow<4.0.0,>=3.18.0 in /usr/local/lib/python3.10/dist-packages (from dataclasses-json->llama-index-core<0.12.0,>=0.11.0->llama-index-llms-huggingface) (3.23.0)\n",
            "Requirement already satisfied: anyio in /usr/local/lib/python3.10/dist-packages (from httpx->llama-index-core<0.12.0,>=0.11.0->llama-index-llms-huggingface) (3.7.1)\n",
            "Requirement already satisfied: httpcore==1.* in /usr/local/lib/python3.10/dist-packages (from httpx->llama-index-core<0.12.0,>=0.11.0->llama-index-llms-huggingface) (1.0.6)\n",
            "Requirement already satisfied: sniffio in /usr/local/lib/python3.10/dist-packages (from httpx->llama-index-core<0.12.0,>=0.11.0->llama-index-llms-huggingface) (1.3.1)\n",
            "Requirement already satisfied: h11<0.15,>=0.13 in /usr/local/lib/python3.10/dist-packages (from httpcore==1.*->httpx->llama-index-core<0.12.0,>=0.11.0->llama-index-llms-huggingface) (0.14.0)\n",
            "Requirement already satisfied: MarkupSafe>=2.0 in /usr/local/lib/python3.10/dist-packages (from jinja2->torch<3.0.0,>=2.1.2->llama-index-llms-huggingface) (3.0.1)\n",
            "Requirement already satisfied: mpmath<1.4,>=1.1.0 in /usr/local/lib/python3.10/dist-packages (from sympy->torch<3.0.0,>=2.1.2->llama-index-llms-huggingface) (1.3.0)\n",
            "Requirement already satisfied: propcache>=0.2.0 in /usr/local/lib/python3.10/dist-packages (from yarl<2.0,>=1.12.0->aiohttp<4.0.0,>=3.8.6->llama-index-core<0.12.0,>=0.11.0->llama-index-llms-huggingface) (0.2.0)\n",
            "Requirement already satisfied: exceptiongroup in /usr/local/lib/python3.10/dist-packages (from anyio->httpx->llama-index-core<0.12.0,>=0.11.0->llama-index-llms-huggingface) (1.2.2)\n"
          ]
        }
      ]
    },
    {
      "cell_type": "code",
      "source": [
        "from llama_index.core import VectorStoreIndex, SimpleDirectoryReader, ServiceContext\n",
        "from llama_index.llms.huggingface import HuggingFaceLLM\n",
        "from llama_index.core.prompts.prompts import SimpleInputPrompt"
      ],
      "metadata": {
        "colab": {
          "base_uri": "https://localhost:8080/"
        },
        "id": "X1PvpDFlVuxY",
        "outputId": "e32dad0c-6052-4fda-99f1-257bb35968b8"
      },
      "execution_count": 7,
      "outputs": [
        {
          "output_type": "stream",
          "name": "stderr",
          "text": [
            "/usr/local/lib/python3.10/dist-packages/pydantic/_internal/_fields.py:132: UserWarning: Field \"model_id\" in DeployedModel has conflict with protected namespace \"model_\".\n",
            "\n",
            "You may be able to resolve this warning by setting `model_config['protected_namespaces'] = ()`.\n",
            "  warnings.warn(\n",
            "/usr/local/lib/python3.10/dist-packages/pydantic/_internal/_fields.py:132: UserWarning: Field \"model_name\" in HuggingFaceLLM has conflict with protected namespace \"model_\".\n",
            "\n",
            "You may be able to resolve this warning by setting `model_config['protected_namespaces'] = ()`.\n",
            "  warnings.warn(\n",
            "/usr/local/lib/python3.10/dist-packages/pydantic/_internal/_fields.py:132: UserWarning: Field \"model_kwargs\" in HuggingFaceLLM has conflict with protected namespace \"model_\".\n",
            "\n",
            "You may be able to resolve this warning by setting `model_config['protected_namespaces'] = ()`.\n",
            "  warnings.warn(\n",
            "/usr/local/lib/python3.10/dist-packages/pydantic/_internal/_fields.py:132: UserWarning: Field \"model_name\" in HuggingFaceInferenceAPI has conflict with protected namespace \"model_\".\n",
            "\n",
            "You may be able to resolve this warning by setting `model_config['protected_namespaces'] = ()`.\n",
            "  warnings.warn(\n",
            "/usr/local/lib/python3.10/dist-packages/pydantic/_internal/_fields.py:132: UserWarning: Field \"model_name\" in TextGenerationInference has conflict with protected namespace \"model_\".\n",
            "\n",
            "You may be able to resolve this warning by setting `model_config['protected_namespaces'] = ()`.\n",
            "  warnings.warn(\n"
          ]
        }
      ]
    },
    {
      "cell_type": "code",
      "source": [
        "documents=SimpleDirectoryReader(\"/content/data\").load_data()\n",
        "documents"
      ],
      "metadata": {
        "colab": {
          "base_uri": "https://localhost:8080/"
        },
        "id": "OZxNDyPWV0uK",
        "outputId": "c011756e-ee31-4207-9767-7aa47c2a987b"
      },
      "execution_count": 8,
      "outputs": [
        {
          "output_type": "execute_result",
          "data": {
            "text/plain": [
              "[Document(id_='f041e45a-8d2f-416b-9746-b82de89e281a', embedding=None, metadata={'page_label': '1', 'file_name': 'module_manual_IMACS.pdf', 'file_path': '/content/data/module_manual_IMACS.pdf', 'file_type': 'application/pdf', 'file_size': 764114, 'creation_date': '2024-10-20', 'last_modified_date': '2024-10-20'}, excluded_embed_metadata_keys=['file_name', 'file_type', 'file_size', 'creation_date', 'last_modified_date', 'last_accessed_date'], excluded_llm_metadata_keys=['file_name', 'file_type', 'file_size', 'creation_date', 'last_modified_date', 'last_accessed_date'], relationships={}, text=' \\n \\n \\n \\n \\n \\n \\n \\n \\n \\nModule  manual  for the course  of studies  \\n \\nApplied  Computer  Science  (M.Sc .) \\n \\nFaculty  of Computer  Science  \\n \\nversion  08/2020  \\n \\n \\n  \\n', mimetype='text/plain', start_char_idx=None, end_char_idx=None, text_template='{metadata_str}\\n\\n{content}', metadata_template='{key}: {value}', metadata_seperator='\\n'),\n",
              " Document(id_='3969142e-68f9-422d-8d5a-97c31f587e10', embedding=None, metadata={'page_label': '2', 'file_name': 'module_manual_IMACS.pdf', 'file_path': '/content/data/module_manual_IMACS.pdf', 'file_type': 'application/pdf', 'file_size': 764114, 'creation_date': '2024-10-20', 'last_modified_date': '2024-10-20'}, excluded_embed_metadata_keys=['file_name', 'file_type', 'file_size', 'creation_date', 'last_modified_date', 'last_accessed_date'], excluded_llm_metadata_keys=['file_name', 'file_type', 'file_size', 'creation_date', 'last_modified_date', 'last_accessed_date'], relationships={}, text=' \\n \\n \\n \\n \\nModule  description  \"Applied  Computer  Science  (M.Sc.)\"                Content  Page  2 \\nContent  \\nObligatory  ................................ ................................ ................................ ................................ ...........................  3 \\nAgile  Software  Development  ................................ ................................ ................................ ..........................  4 \\nComputer  Graphics  1 ................................ ................................ ................................ ................................ ...... 6 \\nComputational  Intelligence  ................................ ................................ ................................ .............................  8 \\nDistributed  Systems  ................................ ................................ ................................ ................................ ...... 10 \\nIT Security  ................................ ................................ ................................ ................................ .....................  12 \\nMobile  Systems ................................ ................................ ................................ ................................ .............  13 \\nService -oriented  Networks  ................................ ................................ ................................ ............................  15 \\nSignals  & Systems  ................................ ................................ ................................ ................................ ........  16 \\nWeb Applications  ................................ ................................ ................................ ................................ ..........  18 \\nOptional  Section  I ................................ ................................ ................................ ................................ .............  19 \\nIT-Security  (adv.  chapters) . ................................ ................................ ................................ ...........................  20 \\nDistributed  Systems  Advanced  Chapters . ................................ ................................ ................................ .... 21 \\nSemantic  Technologies  in Distributed  Systems  ................................ ................................ ...........................  22 \\nSoftware  Quality ................................ ................................ ................................ ................................ ............  23 \\nText Mining  Search  ................................ ................................ ................................ ................................ ....... 24 \\nOptional  Section  II ................................ ................................ ................................ ................................ ............  26 \\neBusiness  ................................ ................................ ................................ ................................ .....................  27 \\nHuman -Computer  Interaction  ................................ ................................ ................................ .......................  29 \\nImage  Processing  1 ................................ ................................ ................................ ................................ ...... 31 \\nImage  Processing  2 ................................ ................................ ................................ ................................ ...... 32 \\nMedia  Production  1 ................................ ................................ ................................ ................................ ....... 33 \\n \\n  ', mimetype='text/plain', start_char_idx=None, end_char_idx=None, text_template='{metadata_str}\\n\\n{content}', metadata_template='{key}: {value}', metadata_seperator='\\n'),\n",
              " Document(id_='f5304419-31e6-4940-a320-0a37e35cc3e3', embedding=None, metadata={'page_label': '3', 'file_name': 'module_manual_IMACS.pdf', 'file_path': '/content/data/module_manual_IMACS.pdf', 'file_type': 'application/pdf', 'file_size': 764114, 'creation_date': '2024-10-20', 'last_modified_date': '2024-10-20'}, excluded_embed_metadata_keys=['file_name', 'file_type', 'file_size', 'creation_date', 'last_modified_date', 'last_accessed_date'], excluded_llm_metadata_keys=['file_name', 'file_type', 'file_size', 'creation_date', 'last_modified_date', 'last_accessed_date'], relationships={}, text=' \\n \\n \\n \\n \\nModule  description  \"Applied  Computer  Science  (M.Sc.)\"                Content  Page  3 \\n \\n \\n \\n \\nObligatory  \\n  ', mimetype='text/plain', start_char_idx=None, end_char_idx=None, text_template='{metadata_str}\\n\\n{content}', metadata_template='{key}: {value}', metadata_seperator='\\n'),\n",
              " Document(id_='14f63023-e786-4d67-8051-cbec4ee94959', embedding=None, metadata={'page_label': '4', 'file_name': 'module_manual_IMACS.pdf', 'file_path': '/content/data/module_manual_IMACS.pdf', 'file_type': 'application/pdf', 'file_size': 764114, 'creation_date': '2024-10-20', 'last_modified_date': '2024-10-20'}, excluded_embed_metadata_keys=['file_name', 'file_type', 'file_size', 'creation_date', 'last_modified_date', 'last_accessed_date'], excluded_llm_metadata_keys=['file_name', 'file_type', 'file_size', 'creation_date', 'last_modified_date', 'last_accessed_date'], relationships={}, text=' \\n \\n \\n \\n \\nModule  description  \"Applied  Computer  Science  (M.Sc.)\"                Content  Page  4 \\nModule  Name  Agile  Software  Development  \\nModule  Responsibility  Prof.  Dr. Englmeier  \\nQualification  Targets  Knowing/Perceiving:  Students  learn  basic  concepts  and methods  of agile  \\nsoftware  development.  Based  on their knowledge  acquired  in the Bachelor  \\ncourse  project  management  they better  understand  how to adopt  the \\nconcept  of Agility  in Project  Management.  The course  addresses  in \\nparticular  the SCRUM  methodology.  \\nApplying : The students  also learn  tools  supporting  agile  project  \\nmanagement.  \\nAnalyz ing/Evaluating:  The course  applies  and reflects  traditional  project  \\nmanagement  tools  in the light of agility.  This contrasts  the two approa ches  \\nand highlights  the differences  and the applicability  of agility  to different  \\nproject  settings.  \\nSynthesiz ing: The course  trains  also the use of Agile  Project  Management  \\ntools.  The students  set up a project  in teams  and manage  their fictive  work.  \\nThey  are encouraged  to link their project  management  with a project  they \\ncomplete  in a different  course  during  the same  semester.  \\nContent  Know  Understand  Apply  Analyze  Assess  Synthesize  \\nBasics  in \\nProject  \\nManagement  x x x x   \\nAgile  \\nPrinciples  x x x x   \\nSCRUM  x x x x x x \\nAgile  Lifecycle  x x x x x x \\nMeasuring  \\nperformance  x x x x x x \\n ', mimetype='text/plain', start_char_idx=None, end_char_idx=None, text_template='{metadata_str}\\n\\n{content}', metadata_template='{key}: {value}', metadata_seperator='\\n'),\n",
              " Document(id_='c0d4512b-9972-4027-9abd-eb25ec5ae3e4', embedding=None, metadata={'page_label': '5', 'file_name': 'module_manual_IMACS.pdf', 'file_path': '/content/data/module_manual_IMACS.pdf', 'file_type': 'application/pdf', 'file_size': 764114, 'creation_date': '2024-10-20', 'last_modified_date': '2024-10-20'}, excluded_embed_metadata_keys=['file_name', 'file_type', 'file_size', 'creation_date', 'last_modified_date', 'last_accessed_date'], excluded_llm_metadata_keys=['file_name', 'file_type', 'file_size', 'creation_date', 'last_modified_date', 'last_accessed_date'], relationships={}, text=' \\n \\n \\n \\n \\nModule  description  \"Applied  Computer  Science  (M.Sc.)\"                Content  Page  5 \\nModule  Contents  1. Understanding  Agile  \\n• Values  and Principles  \\n• Agile  Methodologies  and Frameworks  \\n• Agile  Project  Management  Model  \\n2. Adopting  the Agile  Approach  \\n• Initiating an Agile Project  \\n• Creating Vision and Charting a Project  \\n• Agile Contracts  \\n• Agile Documentation  \\n3. SCRUM  \\n• Fundamental  Concepts  (User  Stories,  Iteration,  Sprints,  Backlogs,  \\n…)  \\n• Roles  and team  development  \\n• Communication  \\n4. Agile  Lifecycle  \\n• Phase  models  \\n• Release  planning  \\n5. Performanc e measurement  \\nTeaching  Methods  Lectures  (2 hours/week),  Exercise  (2 hours/week)  \\nRequirements  for \\nParticipation  Programming  skills  \\nLiterature  / Multimedia -\\nbased  Teaching  Material  Highsmith,  J.: “Agile  Project  Management:  Creating  Innovative  Products ”, \\n2nd Edition,  Pearson  Education/Addison  Wesley  Professional.  \\nStenbeck,  J.: PMI-ACP®  and Certified  Scrum  Professional  Exam  Prep  and \\nDesk  Reference.    \\nCohn,  M.: “User  Stories  Applied ”, Addison -Wesley,  2004.  \\nOnline  Courses  of ACM  addressing  User  Stories  und User -Centred  Design  \\nApplicability  Master  Applied  Computer  Science  \\nEffort/  \\nTotal  Workload  Total  150 hours.  Attendance:  60 hours;  Self-study:  20 hours;  Practical  work:  \\n70 hours   \\nECTS/  Emphasis  of the \\nGrade  for the final Grade  5 CP (Emphasis  of the Grade  for the final Grade  5/120)  \\nPerformance  Record  Project  work  \\nSemester   2nd semester  \\nFrequency  of the course  Once  during  the academic  year (summer  semester)  \\nDuration  One semester  \\nType  of Course  Obligatory  course  from the area software  engineering  ', mimetype='text/plain', start_char_idx=None, end_char_idx=None, text_template='{metadata_str}\\n\\n{content}', metadata_template='{key}: {value}', metadata_seperator='\\n'),\n",
              " Document(id_='8081686e-b6a4-4d9a-ae57-90bcbc4f5553', embedding=None, metadata={'page_label': '6', 'file_name': 'module_manual_IMACS.pdf', 'file_path': '/content/data/module_manual_IMACS.pdf', 'file_type': 'application/pdf', 'file_size': 764114, 'creation_date': '2024-10-20', 'last_modified_date': '2024-10-20'}, excluded_embed_metadata_keys=['file_name', 'file_type', 'file_size', 'creation_date', 'last_modified_date', 'last_accessed_date'], excluded_llm_metadata_keys=['file_name', 'file_type', 'file_size', 'creation_date', 'last_modified_date', 'last_accessed_date'], relationships={}, text=' \\n \\n \\n \\n \\nModule  description  \"Applied  Computer  Science  (M.Sc.)\"                Content  Page  6 \\nModul e Name \\n \\n Computer  Graphics  1 (Computergraphik  1)  \\nModul e Responsibility  \\n \\n Prof.  Hartmut  Seichter,  PhD \\nQualific ation  Targets  \\n Students  are able to understand  the connection  between  visual  computing  \\ntechniques  and the underlying  mathematical  concepts  and the physiognomy  of \\nhuman  beings,  especially  the visual  system.  Students  further  can distinguish  the \\ndifferences  between  image  synthesis  methods  and related  techniques.  Students  \\nwill learn  basic  techniques  of real-time 3D visualization  and apply  them  in \\nexercises.  \\nTopics  Know  Understand  Apply  Analyze  Assess  Synthesize  \\nDigital  Images  X X X    \\nDisplay  Systems  X X X X x  \\n3D Model  \\nRepresentations  X X X X X  \\nImage  Synthesis  \\nMethods  X X X X X  \\nTexturing  X X X X X  \\nLighting  Models  X X X    \\nShading  Models  X X X    \\nApplications  X X      \\nModul e Contents  \\n Computer  graphics  is a melting  pot of computer  science  technologies  to present  \\ndigital  content  efficiently  to users.  Topics  in this course:  \\n• Basic  knowledge  of the human  visual  system  and perceptual  \\npsychological  concept.  \\n• Image  generation  and storage  \\n• CG in professional  application  and entertainment  \\n• Display  technologies  \\n• 3D model  representations  \\n• Transformationpipeline:  homogenous  coordinates  and transformations  \\n• Scenegraphs  and realtime  rendering  APIs  \\n• Image syntesis  methods:  Rasterization,  Raytracing  and beyond.  \\n• Geometry  and Images:  samplingmethods  and anti-aliasing  strategies  \\n• Texturing,  Surfaces  and Materials   \\n• Rendering -Equation  and Shadingmodels   \\n• Lighting  models  \\n• Introduction  to scientific  and information  visualization  \\n• Graphical  User  Interfaces  \\nTeaching  Methods  \\n Lecture  (2 SWS),  Exercises  (2 SWS)  \\nRequirements  for \\nParticipation  \\n • Programming  with OOP  \\n• Basic  knowledge  of linear  algebra  \\n \\nLiterature  / Multimedia -\\nbased  Teaching  Material  • Foley,  James  D, Andries  Van Dam,  Steven  K Feiner,  John  F Hughes,  \\nand Richard  L Phillips.  Introduction  to Computer  Graphics.  Vol. 55. \\nAddison -Wesley  Reading,  1994.  \\n• Folien  \\nApplicability  \\n Master   Applied  Computer  Science,  Master  Angewandte  Medieninformatik  \\nEffort  / Total  Workload  Total  150 hours.  Attendance : 60 hours,  Self-Study : 45 hours,  Exam  Preparation : \\n45 hours   \\nECTS  / Emphasis of the \\nGrad e for the final Grad e 5 CP (Emphasis  of the Grade  for the final Grade  5/120)  \\nPerformance  Record  Oral Exam  ', mimetype='text/plain', start_char_idx=None, end_char_idx=None, text_template='{metadata_str}\\n\\n{content}', metadata_template='{key}: {value}', metadata_seperator='\\n'),\n",
              " Document(id_='cc3e03eb-b446-44ce-9964-41483261ce98', embedding=None, metadata={'page_label': '7', 'file_name': 'module_manual_IMACS.pdf', 'file_path': '/content/data/module_manual_IMACS.pdf', 'file_type': 'application/pdf', 'file_size': 764114, 'creation_date': '2024-10-20', 'last_modified_date': '2024-10-20'}, excluded_embed_metadata_keys=['file_name', 'file_type', 'file_size', 'creation_date', 'last_modified_date', 'last_accessed_date'], excluded_llm_metadata_keys=['file_name', 'file_type', 'file_size', 'creation_date', 'last_modified_date', 'last_accessed_date'], relationships={}, text=' \\n \\n \\n \\n \\nModule  description  \"Applied  Computer  Science  (M.Sc.)\"                Content  Page  7 \\nSemester   \\n 1st Semester  \\nFrequency  of Occurrence  \\n Once  during  the academic  year (winter  semester)  \\nDuration  One Semester  \\nType  of Course  \\n Obligatory  course  from the area of software  engineering  \\n  ', mimetype='text/plain', start_char_idx=None, end_char_idx=None, text_template='{metadata_str}\\n\\n{content}', metadata_template='{key}: {value}', metadata_seperator='\\n'),\n",
              " Document(id_='8f749c81-c143-4a82-9ffd-bc09510b480c', embedding=None, metadata={'page_label': '8', 'file_name': 'module_manual_IMACS.pdf', 'file_path': '/content/data/module_manual_IMACS.pdf', 'file_type': 'application/pdf', 'file_size': 764114, 'creation_date': '2024-10-20', 'last_modified_date': '2024-10-20'}, excluded_embed_metadata_keys=['file_name', 'file_type', 'file_size', 'creation_date', 'last_modified_date', 'last_accessed_date'], excluded_llm_metadata_keys=['file_name', 'file_type', 'file_size', 'creation_date', 'last_modified_date', 'last_accessed_date'], relationships={}, text=' \\n \\n \\n \\n \\nModule  description  \"Applied  Computer  Science  (M.Sc.)\"                Content  Page  8 \\nModule  Name  \\n Computational  Intelligence  \\nModule  Responsibility  Prof.  Dr. Martin  Golz   \\nQualification  Targets   \\n The students will get the opportunity to  \\n- Analyse typical problems of sub -symbolic data and knowledge processing,  \\n- Conceive the process chain of adaptive data analytics,  \\n- Comprehend and apply methods of the process chain,  \\n- Comprehend and apply methods of validation,  \\n- Know basic assumptions and models of empirical inference,  \\n- Know some of  the mathematical background issues.  \\n \\n    \\nContents  Know &  \\nComprehend  Apply  Analyse & \\nEvaluate  Synthe sise \\nBasics  of statistical  inference  X     \\nProcess  chain  of adaptive  data analytics  X X X  \\nStatistical  learning  theory  X    \\nMultivariate  regression  analysis  X X X  \\nLinear  discriminant  analysis  X X X  \\nKernel  function  discriminant  analysis  X X X  \\nLinear  and non-linear  adaptive  filtering  X X X  \\nDeep  learning  X X X  \\n  \\nModule  Contents  \\n 1. Introduction  \\n1.1. Five types  of statistical  inference  \\n1.2. Typical  applications  \\n1.3. Process  chain  \\n2. Statistical  learning  theory  \\n2.1. Empirical  risk minimisation    \\n2.2. PAC learning   \\n2.3. General  learning  model   \\n2.4. Learning  with uniform  convergence  \\n2.5. Bias complexity  trade -off \\n2.6. Vapnik  Chervonenkis  dimension  \\n3. Multivariate,  linear  regression  analysis  \\n3.1. Introduction  \\n3.2. Model  \\n3.3. Principle  of maximal  a-posteriori  probability  \\n4. Linear  discriminant  analysis  (LDA)  \\n4.1. Introduction  \\n4.2. Multi -class  LDA \\n4.3. Least  squares  LDA  \\n4.4. Fisher  LDA \\n5. Kernel  function  discriminant  analysis  \\n5.1. Introduction  \\n5.2. Theorem  of Cover  \\n5.3. Dual representation  \\n5.4. Generation  of kernel  functions  \\n5.5. Radial  basis  function  networks  \\n5.6. Recursive  least  squares  minimisation  \\n5.7. Gaussian  processes  ', mimetype='text/plain', start_char_idx=None, end_char_idx=None, text_template='{metadata_str}\\n\\n{content}', metadata_template='{key}: {value}', metadata_seperator='\\n'),\n",
              " Document(id_='b46c0fb5-efcc-42d0-9b55-7a366b735246', embedding=None, metadata={'page_label': '9', 'file_name': 'module_manual_IMACS.pdf', 'file_path': '/content/data/module_manual_IMACS.pdf', 'file_type': 'application/pdf', 'file_size': 764114, 'creation_date': '2024-10-20', 'last_modified_date': '2024-10-20'}, excluded_embed_metadata_keys=['file_name', 'file_type', 'file_size', 'creation_date', 'last_modified_date', 'last_accessed_date'], excluded_llm_metadata_keys=['file_name', 'file_type', 'file_size', 'creation_date', 'last_modified_date', 'last_accessed_date'], relationships={}, text=' \\n \\n \\n \\n \\nModule  description  \"Applied  Computer  Science  (M.Sc.)\"                Content  Page  9 \\n5.8. Applications  \\n6. Adaptive  Filter  \\n6.1. Linear  adaptive  filtering  \\n6.1.1.  Least  squares  algorithm  (LS) \\n6.1.2.  Recursive  LS algorithm  (RLS)  \\n6.1.3.  Extended  RLS algorithm  (Ex-RLS)  \\n6.2. Non-linear  adaptive  filtering  \\n6.2.1.  Reproducing  kernel  Hilbert  space  (RKHS)  \\n6.2.2.  Kernel  function  LS filtering  \\n6.3. Applications  \\n7. Deep  learning   \\n7.1. Characterisation  \\n7.2. Representation  learning  \\n7.3. Deep  auto-encoder  \\n7.4. Restricted  Boltzmann  machines  \\n7.5. Applications  \\n \\nTeaching  methods  \\n - Frontal lectures with  \\no Digital presentation slides,  \\no Demonstration programs  \\n- Exercises held in the computer pool \\no Programming with MATLAB  \\no Clarification of open issues  \\n \\nRequirements  for \\nParticipation  No formal  suppositions  \\nBasic  knowledge  in linear  algebra,  analysis,  statistics    \\nLiterature  \\n The following  books  are recommended:  \\n- Nielsen (2015) Neural networks and  deep learning. Determination press  \\n- Mohri, Rostamizadeh (2012) Foundations of machine learning. MIT press  \\n- Bishop (2006) Pattern recognition & machine learning. Springer  \\n- Duda, Hart, Stork (2001) Pattern classification. Wiley  \\n \\nApplicability  This module  is an obligatory  subject.   \\nAn appropriation  to similar  majors  is possible  under  stipulation  of their \\nexamination  regulations.   \\n \\nEffort  / Total  Workload  180 hours,  including  60 hours  in presence  and 120 hours  self-instruction  \\nECTS  / Emphasis  of the \\nGrade  for the final Grade  5 CP (Emphasis  of the Grade  for the final Grade  5/120)  \\nPerformance  Record  Oral examination  (30 minutes)  \\nSemester   2nd Semester  \\nFrequency  of Occurrence  Once  a year \\nDuration  One semester   \\nType  of Course  Obligatory  subject  \\n  ', mimetype='text/plain', start_char_idx=None, end_char_idx=None, text_template='{metadata_str}\\n\\n{content}', metadata_template='{key}: {value}', metadata_seperator='\\n'),\n",
              " Document(id_='728cfc47-016e-46c9-98ac-502c13724d70', embedding=None, metadata={'page_label': '10', 'file_name': 'module_manual_IMACS.pdf', 'file_path': '/content/data/module_manual_IMACS.pdf', 'file_type': 'application/pdf', 'file_size': 764114, 'creation_date': '2024-10-20', 'last_modified_date': '2024-10-20'}, excluded_embed_metadata_keys=['file_name', 'file_type', 'file_size', 'creation_date', 'last_modified_date', 'last_accessed_date'], excluded_llm_metadata_keys=['file_name', 'file_type', 'file_size', 'creation_date', 'last_modified_date', 'last_accessed_date'], relationships={}, text=' \\n \\n \\n \\n \\nModule  description  \"Applied  Computer  Science  (M.Sc.)\"                Content  Page  10 \\nModule  Name  \\n \\n Distributed  Systems  (Verteilte  Systeme)  \\nModule  Responsibility  \\n \\n Prof.  Dr. Erwin  Neuhardt  \\nQualification  Targets  \\n Students  learn  about  important  architectures  which  are relied  on in the \\ndevelopment  of distributed  systems.  They  know  about  the properties  of different  \\narchitectures.  They  learn  about  the different  technologies  for communication  \\nand cooperation  in distributed  systems  and are able to apply  these  technologies  \\nin real world  projects.  \\nContents  Know  Understand  Apply  Analyse  Assess  Synthesize  \\nArchitecture  x x x    \\nSockets  x x x x x  \\nRPC / RMI  x x x x x  \\nJEE x x x x x  \\nJMS x x x x x  \\nThreads  x x x x x   \\nModule  Contents  \\n Concepts  and technologies  for the development  of distributed  Systems:  \\n- architectures  and properties  of distributed  systems:  client  server -\\narchitectures,  transparency  \\n- Programming  concepts  for the communication  in distributed  systems:  \\nsockets,  remote  procedure  call, remote  method  invocation,  component  \\nbased  distributed  systems,  message  based  distributed  systems \\n- Concurrent  programming:  java thread,  synchronization  and \\ncoordination,  concurrent  data structures,  java executor  framework  \\nTeaching  Methods  \\n Lecture  (2 hours/week),  tutorial  (2 hours/week)  \\nRequirements  for \\nParticipation  \\n Skills  and knowledge  in Java  programming  and software  engineering  (at least  \\n10 ECTS)  \\nLiterature  / Multimedia -\\nbased  Teaching  Material  Andrew  S. Tanenbaum,  Maarten  van Steen,  Distributed  Systems,  Published  by \\nMaarten  von Steen,  2017  \\nJendrock,  E. et al.: The Java  EE Tutorial,  Enterprise  Java  Beans,  online  on \\ndocs.oracle.com  \\nw/o author:  Sockets,  Java  Remote  Method  Invocation,  Concurrency,  online  on \\ndocs.oracle.com  \\nBrian  Goetz,  Joshua  Bloch,  Joseph  Bowbeer,  Doug  Lea, David  Holmes,  Tim \\nPeierls,  Java  Concurrency  in Practice,  Addison -Wesley,  2006  \\nDavid  A. Chappell,  Richard  Monson -Haefel,  Java  Message  Service,  O’Reilly  \\n2009 \\nApplicability  \\n Master  of Applied  Computer  Science,  Master  Angewandte  Medieninformatik  \\nEffort  / Total  Workload  Total  150 hours.  Attendance:  60 hours,  Self-Study:  60 hours,  Exam  Preparation  \\n30 hours  \\nECTS  / Emphasis  of the \\nGrade  for the final Grade  5 ECTS  (Emphasis  of the Grade  for the final Grade  5/120)  \\nPerformance  Record  Written  examination  on PC \\nSemester   \\n 1st semester  \\nFrequency  of Occurrence  Once  during  the academic  year \\nDuration  One semester  \\n \\nModule  Name  IT Security  ', mimetype='text/plain', start_char_idx=None, end_char_idx=None, text_template='{metadata_str}\\n\\n{content}', metadata_template='{key}: {value}', metadata_seperator='\\n'),\n",
              " Document(id_='764894be-15b4-4925-b898-d025aeca829a', embedding=None, metadata={'page_label': '11', 'file_name': 'module_manual_IMACS.pdf', 'file_path': '/content/data/module_manual_IMACS.pdf', 'file_type': 'application/pdf', 'file_size': 764114, 'creation_date': '2024-10-20', 'last_modified_date': '2024-10-20'}, excluded_embed_metadata_keys=['file_name', 'file_type', 'file_size', 'creation_date', 'last_modified_date', 'last_accessed_date'], excluded_llm_metadata_keys=['file_name', 'file_type', 'file_size', 'creation_date', 'last_modified_date', 'last_accessed_date'], relationships={}, text=' \\n \\n \\n \\n \\nModule  description  \"Applied  Computer  Science  (M.Sc.)\"                Content  Page  11 \\n \\n \\nModule  Responsibility  \\n \\n Prof.  Ralf C. Staudemeyer,  Ph.D.  \\nQualification  Targets  \\n In this course  students  will learn  how to determine  the level of security  of a \\ncomputer  system  or service,  specify  vulnerabilities,  and to estimate  the potential  \\ndamage  resulting  from a successful  attack.  It covers  the basic  principles  and \\nkey concepts  for the operation  of secure  and (mostly)  distributed  systems,  which  \\nincludes  partial  components  from operating  systems  and computer  networks.  \\nThe focus  of this course  is to deepen  the understanding  of network  attacks  and \\nthe cryptographic  techniques  to ensure  integrity  and confidentiality  of \\ninformation.  Topics  include  various  sub-components  like cryptographic  key \\nmanagem ent, biometrics,  authentication  in distributed  systems,  and basic  \\nsecurity  protocols  and standards.  \\nModule  Contents  \\n The course  starts  with a general  introduction  into IT-Security,  Cryptography  and \\nPrivacy -Enhancing  Technologies.  The main  focus  of this course  is on \\ncryptographic  algorithms  and security  protocols.  Principally  this module  treats  a \\nselection  of the following  topics:  \\n• Selected  Attacks  (attacks  analysis,  protection  mechanisms)  \\n• Cryptographic  Algorithms  (AES,  RSA,  ECC,  MACs,  signatures)  \\n• Cryptogr aphic  Key Management  (Diffie -Hellman  key exchange,  \\ncertificates,  public -key infrastructure)  \\n• Digital  Identity  (multi -factor  authentication,  challenge -response  \\nprotocols,  authentication  in distributed  systems)  \\n• Mobile  Security  (mobile  networks,  Internet -of-Things,  SmartCities)  \\n• Network  Security  (security  protocols,  virtual  private  networks,  secure  \\nInternet  services)  \\n• User -tools  for IT-Security  and Privacy  in daily practise  (email,  web,  chat,  \\nfilesystems)  \\nThis module  is under  constant  development  to reflect  the most recent  \\ndevelopments.  \\nTeaching  Methods  Lecture  (2 hours/week),  Exercise  (2 hours/week)  \\nRequirements  for \\nParticipation  Decent  programming  skills  and basic  knowledge  in IT-security  \\nLiterature  / Multimedia -\\nbased  Teaching  Material  • Eckert,  C. (2018).  IT-Sicherheit.  Berlin,  München,  Boston.  De Gruyter.  \\n• Stallings,  W. (2016).  Cryptography  and network  security,  principles  and \\npractices  (7th edition).  Prentice  Hall. \\n• Paar,  C., & Pelzl,  J. (2010).  Understanding  Cryptography.  Berlin,  \\nHeidelberg:  Springer  Berlin  Heidelberg.  \\n• Schneier,  B. (1996),  Applied  Cryptography,  John  Wiley  & Sons.  \\n• Hoglund,  G, & McGraw  , G. (2004).  Exploiting  Software,  how to break  \\ncode,  Addison  Wesley.  \\n• Selected  sources  announced  in the lecture.  \\nApplicability  Master  of Applied  Computer  Science  \\nEffort/  \\nTotal  Workload  \\n Total  150 hours.  Attendance:  60 hours,  Self-Study  incl. exam  preparation:  90h. \\nECTS/  Emphasis  of the \\nGrade  for the final Grade  5 CP (Emphasis  of the Grade  for the final Grade  5/120)  \\nPerformance  Record  • successfully  completed  exercises  \\n• oral exam  or written  exam  (>14 participants)  ', mimetype='text/plain', start_char_idx=None, end_char_idx=None, text_template='{metadata_str}\\n\\n{content}', metadata_template='{key}: {value}', metadata_seperator='\\n'),\n",
              " Document(id_='e6aa71dc-c68b-4848-8fbc-3917e4fb3f15', embedding=None, metadata={'page_label': '12', 'file_name': 'module_manual_IMACS.pdf', 'file_path': '/content/data/module_manual_IMACS.pdf', 'file_type': 'application/pdf', 'file_size': 764114, 'creation_date': '2024-10-20', 'last_modified_date': '2024-10-20'}, excluded_embed_metadata_keys=['file_name', 'file_type', 'file_size', 'creation_date', 'last_modified_date', 'last_accessed_date'], excluded_llm_metadata_keys=['file_name', 'file_type', 'file_size', 'creation_date', 'last_modified_date', 'last_accessed_date'], relationships={}, text=' \\n \\n \\n \\n \\nModule  description  \"Applied  Computer  Science  (M.Sc.)\"                Content  Page  12 \\nSemester  1st semester  \\nFrequency  of Occurrence  annually  (WS)  \\nDuration  one semester  \\nType  of Course  Obligatory  course  from the area IT-Security  \\n \\n  ', mimetype='text/plain', start_char_idx=None, end_char_idx=None, text_template='{metadata_str}\\n\\n{content}', metadata_template='{key}: {value}', metadata_seperator='\\n'),\n",
              " Document(id_='fe96e95b-975c-4bdc-a665-8c72439ab1aa', embedding=None, metadata={'page_label': '13', 'file_name': 'module_manual_IMACS.pdf', 'file_path': '/content/data/module_manual_IMACS.pdf', 'file_type': 'application/pdf', 'file_size': 764114, 'creation_date': '2024-10-20', 'last_modified_date': '2024-10-20'}, excluded_embed_metadata_keys=['file_name', 'file_type', 'file_size', 'creation_date', 'last_modified_date', 'last_accessed_date'], excluded_llm_metadata_keys=['file_name', 'file_type', 'file_size', 'creation_date', 'last_modified_date', 'last_accessed_date'], relationships={}, text=' \\n \\n \\n \\n \\nModule  description  \"Applied  Computer  Science  (M.Sc.)\"                Content  Page  13 \\n \\nModul e Name \\n \\n Mobile  Systems  (Mobile  Systeme)  \\nModul e Responsibility  \\n \\n Prof.  Dr. Michael  Cebulla  \\nQualific ation  Targets   \\n Students  learn  about  substantial  concepts  and technologies  for the \\ndevelopment  of smart,  mobile  applications.  One focus  area consists  in the \\nprogramming  with sensor  data.  \\n \\n \\nContent  Know  Understand  Apply  Analyze  Assess  Synthesize  \\nLocation -based \\nServices  x x x x x x \\nCommunication  x x x x x  \\nSensorics  x x x x x  \\nActivity Recognition  x x x x x x   \\nTrack & Trace  x x x x x x  \\nModul e Contents  \\n Concepts  and technologies  for the development  of advanced  mobile  \\napplications.  Special  focus  lies on the contextual  dependencies  of system  \\nbehavior  and the communication  between  different  compone nts. The following  \\ntopics  are examined:  \\n- Location -based  Servic es: applicati on of different  localization  services  \\nwith different  properties,  services  for the visualization  of geographical  \\ndata,  management  of geographical  data,  geofencing,  location -based  \\nsocial  networking  (lbsn)  \\n- Communication  in mobile  applications:  bluetooth,  NFC,  http etc. \\n- Acquisition  of environmental  data using  sensoric  interfaces  \\n- Activity  Recognition  \\n- Track  & Trace -applications:  acquisition  of position  data and \\nenvironmental  data,  collection  and management  of data,  automated  \\nsituation  monitoring  and recognition  \\nTeaching  Methods  \\n Lecture  (2 hours/ week ), excercise  (2 hours/week ) \\nRequirements  for \\nParticipation  \\n Skills  and Knowledge  in Programming  with Java  and Android  \\nLiteratur e / \\nMultimediabased  Teaching  \\nMaterial  Bill Philips,  Chris  Stewart,  Brian  Hardy,  Kristin  Marsiciano,  Android  \\nProgramming  – The big Nerd  Ranch  Guide  (2nd Edition),  Big Nerd  Ranch.  \\nThomas  Künneth,  Android  5 -  Apps  entwickeln  mit dem Android  SDK,  Galileo  \\nPress,  Bonn  2012  \\nGreg  Milette , Adam  Stroud,  Professional  Android  Sensor  Programming,  John  \\nWiley,  Indianapolis  2012   \\nApplicability  \\n Master  of Applied  Computer  Science  \\nEffort/  \\nTotal  Workload  150 hours:  60 hours  presence,  45 hours  self-study,  45 hours  preparation  of \\nexam  \\nECTS  / Emphasis  of the \\nGrade  for the final Grad  5 CP (Emphasis  of the Grade  for the final Grade  5/120)  \\nPerformance  Record  Written  exam  \\nSemester   \\n 2nd semester  \\nFrequency  of Occurrence  \\n Once  a year ', mimetype='text/plain', start_char_idx=None, end_char_idx=None, text_template='{metadata_str}\\n\\n{content}', metadata_template='{key}: {value}', metadata_seperator='\\n'),\n",
              " Document(id_='866a3208-8fcf-4fa7-a9e5-637401825931', embedding=None, metadata={'page_label': '14', 'file_name': 'module_manual_IMACS.pdf', 'file_path': '/content/data/module_manual_IMACS.pdf', 'file_type': 'application/pdf', 'file_size': 764114, 'creation_date': '2024-10-20', 'last_modified_date': '2024-10-20'}, excluded_embed_metadata_keys=['file_name', 'file_type', 'file_size', 'creation_date', 'last_modified_date', 'last_accessed_date'], excluded_llm_metadata_keys=['file_name', 'file_type', 'file_size', 'creation_date', 'last_modified_date', 'last_accessed_date'], relationships={}, text=' \\n \\n \\n \\n \\nModule  description  \"Applied  Computer  Science  (M.Sc.)\"                Content  Page  14 \\nDuration  One semester  \\nType  of Course  \\n Obligatory  course  from the area distributed  and mobile  systems  \\n  ', mimetype='text/plain', start_char_idx=None, end_char_idx=None, text_template='{metadata_str}\\n\\n{content}', metadata_template='{key}: {value}', metadata_seperator='\\n'),\n",
              " Document(id_='34c3371e-4f59-4ca7-904f-4558db899b20', embedding=None, metadata={'page_label': '15', 'file_name': 'module_manual_IMACS.pdf', 'file_path': '/content/data/module_manual_IMACS.pdf', 'file_type': 'application/pdf', 'file_size': 764114, 'creation_date': '2024-10-20', 'last_modified_date': '2024-10-20'}, excluded_embed_metadata_keys=['file_name', 'file_type', 'file_size', 'creation_date', 'last_modified_date', 'last_accessed_date'], excluded_llm_metadata_keys=['file_name', 'file_type', 'file_size', 'creation_date', 'last_modified_date', 'last_accessed_date'], relationships={}, text=' \\n \\n \\n \\n \\nModule  description  \"Applied  Computer  Science  (M.Sc.)\"                Content  Page  15 \\nModul e Name \\n \\n Service -Oriented  Networks  \\nModul e Responsibility  \\n Prof.  Dr.-Ing. Heinz -Peter  Höller  \\nQualification  Targets  \\n Students  \\n- will get advanced  knowledge  on the requirements  of multimedia  \\nstreams  in networks,   \\n- should  be able to correlate  deficiencies  in the quality  of network  \\nservices  with properties  of the network  and traffic  characteristics,  \\n- will get advanced  knowledge  on the approach  of quality  of service  and \\ncongestion  control,  \\n- should  be able to identify  and to analyze  quality  of service  as well as \\ncongestion  control  approaches  at all concerned  OSI levels  and  \\n- should  be able to react  on shift and variation  of quality  of servic e when  \\nprogramming  distributed  systems.  \\nModul e Contents  \\n \\n Modern  applications  and their requirements  for networks  \\nCongestion  control  \\nQuality  of service  \\n• classes  of service  \\n• signaling  \\n• traffic  management  \\n• buffer  management  \\nTCP congestion  control  \\nquality  of service  at OSI level two (ATM,  LAN,  MPLS)  \\nInternet  quality  of service   \\n• Integrated  services  \\n• Differentiated  services  \\nAdvanced  transport  control  protocols  \\nTeaching  Methods  \\n Seminar -like lecture  (3 hours/week)  \\nExercises  and discussions  to deepen  the knowing  (1 hour/week)  \\nRequirements  for \\nParticipation  There  are no formal  prerequisites.  Good  knowledge  in communication  networks  \\nis expected.   \\nLiterature  / Multimedial -\\nbased  Teaching  Material  Badach,  A., Voice  over IP Die Technik,  Hanser,  München,  2005.  \\nBraun,  T. & Zitterbart,  M.. Hochleistungskommunikation,  Band  2: \\nTransportdienste  und –protokolle.Oldenbourg  Verlag  1996.  \\nKurose,  J.F. & Ross,  K.W.  Computernetzwerke.  Pearson  Studium,  München  \\n2008.  \\nLu, G., Communication  and Computing  for Distributed  Multime dia \\nSystems.Artech  House  1996.  \\nSchmitz,  R., Kiefer,  R., Maucher,  J., Schulze,  J. &Suchy,  T. Kompendium  \\nMedieninformatik.  Mediennetze.  Springer  2006.  \\nShin,  J., Lee, D.C. &Kuo,  C.-C.J., Quality  of Service  for Internet  \\nMultimedia,Prentice  Hall 2004  \\nSiegel,  E.D., Quality  of Service.  Solutions  for the Enterprise.Wiley  2000  \\nStalling,  W.. Quality  of Service  and Quality  of Experience.  The Internet  Protocol  \\nJournal  (2016,  March),  14-40. \\nApplicability  \\n „Service -Oriented  Networks “ is compulsory  in the master  program.  Gained  \\nexpertise  is essential  where  quality  of service  issues  have  to be considered.   \\nEffort  / Total  Workload  Total  150 hours . Attendance:  60 hours,  Self-Study:  45 hours,  Exam  Preparation  \\n45 hours  \\nECTS  / Emphasis of the \\nGrad e for the final Grad e 5 CP (Emphasis  of the Grade  for the final Grade  5/120)  \\nPerformance  Record  Oral examination  \\nSemester   2nd semester  \\nDuration  One semester  \\nType  of Course  Obligatory  ', mimetype='text/plain', start_char_idx=None, end_char_idx=None, text_template='{metadata_str}\\n\\n{content}', metadata_template='{key}: {value}', metadata_seperator='\\n'),\n",
              " Document(id_='ceff3aa2-8f8e-4653-a5aa-377b3f41854a', embedding=None, metadata={'page_label': '16', 'file_name': 'module_manual_IMACS.pdf', 'file_path': '/content/data/module_manual_IMACS.pdf', 'file_type': 'application/pdf', 'file_size': 764114, 'creation_date': '2024-10-20', 'last_modified_date': '2024-10-20'}, excluded_embed_metadata_keys=['file_name', 'file_type', 'file_size', 'creation_date', 'last_modified_date', 'last_accessed_date'], excluded_llm_metadata_keys=['file_name', 'file_type', 'file_size', 'creation_date', 'last_modified_date', 'last_accessed_date'], relationships={}, text=' \\n \\n \\n \\n \\nModule  description  \"Applied  Computer  Science  (M.Sc.)\"                Content  Page  16 \\nModule  Name  \\n Signals  and Systems  \\nModule  Responsibility  Prof.  Dr. Martin  Golz   \\nQualification  Targets   \\n The students will get the opportunity to  \\n- Analyse typical problems of signal processing,  \\n- Comprehend integral transforms of continuo us functions,  \\n- Comprehend the discrete Fourier transforms of sequences,  \\n- Comprehend and apply the discrete Fourier transform,  \\n- Comprehend and apply digital filters,  \\n- Comprehend and apply spectral estimation of stochastic signals,  \\n- Comprehend and apply time -frequency analysis,  \\n- Know some of the mathematical background issues.  \\n \\n    \\nContents  Know &  \\nComprehend  Apply  Analyse & \\nEvaluate  Synthe sise \\nFourier  integral  X     \\nFourier  series  X    \\nConvolution  integral  X X   \\nSampling  theorem  & aliasing  X X X  \\nDiskrete  Fourier  transform  X X X  \\nLinear  time-invariant  systems  X X X  \\nstochastic  processes,  spectral  estimation  X X X  \\nTime -Frequency  analysis  X X X  \\n  \\nModule  Contents  \\n 8. Introduction  \\n9. Fourier  integral  \\n9.1. Integral  transforms,  Fourier  kernel  \\n9.2. Dirichlet  conditions , properties  \\n9.3. Elementary  signals  \\n9.4. Signal  energy,  signal  power,  decibel , band width  \\n10. Fourier  series  \\n11. Convolution  \\n12. Sampling  theorem  \\n13. Discrete Fourier  transform  \\n13.1.  Properties  \\n13.2.  Discrete  Walsh  transform,  z-transform  \\n14. Linear,  time-invariant  systems  \\n14.1.  Properties  \\n14.2.  Impulse  response,  transfer  function,  Bode  plot \\n14.3.  Pole-Zero plot, stability  \\n14.4.  State  space  description  \\n15. Stochastic  signals  \\n15.1.  Properties  \\n15.2.  Probability  density  function  \\n15.3.  Wiener -Khinchin  theorem,  power  spectral  density  \\n15.4.  Cepstrum  \\n15.5.  Spectral  estimation  \\n15.6.  Applications  \\n16. Time -frequency  analysis  \\n16.1.  Short -time Fourier  transform  ', mimetype='text/plain', start_char_idx=None, end_char_idx=None, text_template='{metadata_str}\\n\\n{content}', metadata_template='{key}: {value}', metadata_seperator='\\n'),\n",
              " Document(id_='a9ba597a-b87f-45b3-9715-17253def1113', embedding=None, metadata={'page_label': '17', 'file_name': 'module_manual_IMACS.pdf', 'file_path': '/content/data/module_manual_IMACS.pdf', 'file_type': 'application/pdf', 'file_size': 764114, 'creation_date': '2024-10-20', 'last_modified_date': '2024-10-20'}, excluded_embed_metadata_keys=['file_name', 'file_type', 'file_size', 'creation_date', 'last_modified_date', 'last_accessed_date'], excluded_llm_metadata_keys=['file_name', 'file_type', 'file_size', 'creation_date', 'last_modified_date', 'last_accessed_date'], relationships={}, text=' \\n \\n \\n \\n \\nModule  description  \"Applied  Computer  Science  (M.Sc.)\"                Content  Page  17 \\n16.2.  Gabor  series  \\n16.3.  Wavelet  transform  \\n16.4.  Applications  \\n \\nTeaching  methods  \\n - Frontal lectures with  \\no Digital presentation slides,  \\no Demonstration programs  \\n- Exercises held in the computer pool  \\no Programming with MATLAB and signal processing toolbox  \\no Clarification of open issues  \\n \\nRequirements  for \\nParticipation  No formal  requirements  \\nBasic  knowledge  in linear  algebra,  analysis,  statistics    \\nLiterature  \\n The following  books  are recommended:  \\n- Oppenheim (1997) Signals and systems. Prentice Hall  \\n- Haykin, van Veen (2003) Signals and systems. Wiley  \\n- Percival, Walden (2000) Wavelet  methods for time series analysis. \\nCambridge University Press  \\n \\nApplicability  This module  is an obligatory  subject.   \\nAn appropriation  to similar  majors  is possible  under  stipulation  of their \\nexamination  regulations.   \\n \\nEffort  / Total  Workload  Total  150 hours . Attendance:  60 hours,  Self-Study:  45 hours,  Exam  Preparation  \\n45 hours  \\nECTS  / Emphasis  of the \\nGrade  for the final Grade  5 CP (Emphasis  of the Grade  for the final Grade  5/120)  \\nPerformance  Record  Oral examination  (30 minutes)  \\nSemester   1st Semester  \\nFrequency  of Occurrence  Once  during  the academic  year \\nDuration  One semester   \\nType  of Course  Obligatory  subject  \\n \\n  ', mimetype='text/plain', start_char_idx=None, end_char_idx=None, text_template='{metadata_str}\\n\\n{content}', metadata_template='{key}: {value}', metadata_seperator='\\n'),\n",
              " Document(id_='0dafa5aa-47b3-4d55-ba38-1e72c34ab2db', embedding=None, metadata={'page_label': '18', 'file_name': 'module_manual_IMACS.pdf', 'file_path': '/content/data/module_manual_IMACS.pdf', 'file_type': 'application/pdf', 'file_size': 764114, 'creation_date': '2024-10-20', 'last_modified_date': '2024-10-20'}, excluded_embed_metadata_keys=['file_name', 'file_type', 'file_size', 'creation_date', 'last_modified_date', 'last_accessed_date'], excluded_llm_metadata_keys=['file_name', 'file_type', 'file_size', 'creation_date', 'last_modified_date', 'last_accessed_date'], relationships={}, text=' \\n \\n \\n \\n \\nModule  description  \"Applied  Computer  Science  (M.Sc.)\"                Content  Page  18 \\nModule  Name  \\n \\n Web  Applications  \\nModule  Responsibility  \\n \\n Prof.  Dr. Erwin  Neuhardt  \\nQualification  Targets  \\n The students  get to know  the structure  and the functionality  of a web application.  \\nThey  will know  two frameworks  for building  web applications  based  on the \\nprogramming  language  Java.  They  get to know  REST  which  is a standard  for \\ncommunicating  between  appli cations.  The students  know  how to apply  a \\nframework  for building  web applications.  They  know  the advantages  and \\ndisadvantages  of different  frameworks.  \\nContents  Know  Understand  Apply  Analyse  Assess  Synthesize  \\nHTML, CSS, HTTP  x x x    \\nModel -View -\\nController  x x x x x  \\nSpring MVC  x x x x x  \\nVaadin  x x x x x  \\nREST  x x x x x   \\nModule  Contents  \\n Elements  of a web application:  HTML.  CSS,  HTTP,  Model -View -Controller  \\nPattern,  creating  different  parts  of a web application  with a framework,  forms,  \\nvalidation,  creating  a response  page,  error  handling,  layout  of web pages,  \\nreusable  parts  of web pages,  principles  of REST,  elements  of a REST  interface,  \\nimplementation  of a REST  interface  \\nTeaching  Methods  \\n Lecture  and tutorial  (3+1 hours  per week)  \\nRequirements  for \\nParticipation  \\n Skills  and knowledge  in Java  programming  and software  engineering  (at least  \\n10 ECTS)  \\nLiterature  / Multimedia -\\nbased  Teaching  Material  Johnson,  Rod et al.: Spring  Framework  Reference  Documentation,  online  at \\ndocs.spring.io  \\nw/o author:  Spring  Guides,  online  at spring.io/guides  \\nw/o author : Apache  FreeMarker,  online  at freemarker.org  \\nw/o author:  Bootstrap,  online  at getbootstrap.com  \\nw/o author:  Vaadin  Documentation,  online  at vaadin.com  \\nBurke,  B.: RESTful  Java  with JAX-RS 2.0, O\\'Reilly,  2014 \\nApplicability  \\n Master  of Applied  Computer  Science,  Master  Angewandte  Medieninformatik  \\nEffort  / Total  Workload  \\n Total  150 hours.  Attendance:  60 hours,  Self-Study:  60 hours,  Exam  Preparation  \\n30 hours  \\nECTS  / Emphasis  of the \\nGrade  for the final Grade  5 ECTS  (Emphasis  of the Grade  for the final Grade  5/120)  \\nPerformance  Record  Written  examination  on PC (120 min) \\nSemester   \\n 3 rd semester  \\nFrequency  of Occurrence  \\n Once  during  the academic  year \\nDuration  One semester  \\nType  of Course  \\n Obligatory  course  \\n \\n ', mimetype='text/plain', start_char_idx=None, end_char_idx=None, text_template='{metadata_str}\\n\\n{content}', metadata_template='{key}: {value}', metadata_seperator='\\n'),\n",
              " Document(id_='19d3e599-0369-479e-9c16-7bda0ec3faa6', embedding=None, metadata={'page_label': '19', 'file_name': 'module_manual_IMACS.pdf', 'file_path': '/content/data/module_manual_IMACS.pdf', 'file_type': 'application/pdf', 'file_size': 764114, 'creation_date': '2024-10-20', 'last_modified_date': '2024-10-20'}, excluded_embed_metadata_keys=['file_name', 'file_type', 'file_size', 'creation_date', 'last_modified_date', 'last_accessed_date'], excluded_llm_metadata_keys=['file_name', 'file_type', 'file_size', 'creation_date', 'last_modified_date', 'last_accessed_date'], relationships={}, text=' \\n \\n \\n \\n \\nModule  description  \"Applied  Computer  Science  (M.Sc.)\"                Content  Page  19 \\n \\n \\n \\n \\nOptional section  I \\n  ', mimetype='text/plain', start_char_idx=None, end_char_idx=None, text_template='{metadata_str}\\n\\n{content}', metadata_template='{key}: {value}', metadata_seperator='\\n'),\n",
              " Document(id_='029af4c4-d665-4f4b-8532-9ef57056717a', embedding=None, metadata={'page_label': '20', 'file_name': 'module_manual_IMACS.pdf', 'file_path': '/content/data/module_manual_IMACS.pdf', 'file_type': 'application/pdf', 'file_size': 764114, 'creation_date': '2024-10-20', 'last_modified_date': '2024-10-20'}, excluded_embed_metadata_keys=['file_name', 'file_type', 'file_size', 'creation_date', 'last_modified_date', 'last_accessed_date'], excluded_llm_metadata_keys=['file_name', 'file_type', 'file_size', 'creation_date', 'last_modified_date', 'last_accessed_date'], relationships={}, text=' \\n \\n \\n \\n \\nModule  description  \"Applied  Computer  Science  (M.Sc.)\"                Content  Page  20 \\nModule  Name  \\n \\n IT-Security  (adv.  chapters)  \\nModule  Responsibility  \\n \\n Prof.  Ralf C. Staudemeyer,  Ph.D.  \\nQualification  Targets  \\n This course  teaches  students  to improve  their ability  to understand  and master  \\ncurrent  developments  in IT-Security  and Privacy -Enhancing  Technologies  (PET).  \\nStudents  learn  research  techniques  that they will apply  on pre-selected  research  \\ntopics.  Aside  from a comprehensive  literature  research,  students  will develop  a \\nscientific  contribution.  Results  will be presented  in form of a conference  \\ncontribution.  This includes  a presentation  and an academic  publication.  \\nModule  Contents  \\n This course  takes  place  in form of an academic  conference.  Students  go \\nthought  the typical  phases  of a scientific  contribution:  extended  abstract,  review,  \\ncamera  ready  version,  full paper  and 30minutes  presentation.  All presentations  \\nwill be in the course  of an internal  conference -like event  open  to all university  \\nmembers  near the end of the semester.  A selection  of the written  contributions  \\nwill be published  in form of a technical  report.  Overall,  the event  comes  with few \\nmeetings  of all participants.  Questions  that arise  during  the processing  of the \\nindividual  research  topics  are clarified  within  working  groups  and with the \\nlecturer  at regular  individual  meetings.  \\nTypical  “hot” research  topics  are, for example,  in the areas  \\n• Security  monitoring  and visualization  \\n• Internet -of-Things  // Industry4.0  \\n• Privacy -Enhancing  Technologies  \\n• Machine  Learning  in IT-Security  \\nTeaching  Methods  \\n lecture  (2 SWS),  exercises  (2 SWS)  \\nstudents  per course:  restricted;  exercises:  10 \\nRequirements  for \\nParticipation  \\n Basic  knowledge  in IT-security  and cryptography  \\nLiterature  / Multimedia -\\nbased  Teaching  Material  Selected  sources  for the preparation  of current  topics.  \\nApplicability  \\n Master  of Applied  Computer  Science  (MACS)  \\nMaster  Angewandte  Medieninformatik  (MaI)  \\nEffort/  \\nTotal  Workload  \\n Total  150 hours:  Attendance:  60 hours,  Self-study  incl. exam  preparation:  90h. \\nECTS/  Emphasis  of the \\nGrade  for the final Grade  5 CP (Emphasis  of the Grade  for the final Grade  5/120)  \\nPerformance  Record  • presentation  (30min)  \\n• academic  publication  (5pages)  \\nSemester  \\n 2nd/ 3rd Semester  (MACS/MaI)  \\nFrequency  of Occurrence  \\n every  semester  \\nDuration  one semester  \\nType  of Course  \\n Obligatory  course  from the area IT-Security  \\n \\n  ', mimetype='text/plain', start_char_idx=None, end_char_idx=None, text_template='{metadata_str}\\n\\n{content}', metadata_template='{key}: {value}', metadata_seperator='\\n'),\n",
              " Document(id_='18d940f4-978a-40bc-8137-8d83a430f2ba', embedding=None, metadata={'page_label': '21', 'file_name': 'module_manual_IMACS.pdf', 'file_path': '/content/data/module_manual_IMACS.pdf', 'file_type': 'application/pdf', 'file_size': 764114, 'creation_date': '2024-10-20', 'last_modified_date': '2024-10-20'}, excluded_embed_metadata_keys=['file_name', 'file_type', 'file_size', 'creation_date', 'last_modified_date', 'last_accessed_date'], excluded_llm_metadata_keys=['file_name', 'file_type', 'file_size', 'creation_date', 'last_modified_date', 'last_accessed_date'], relationships={}, text=' \\n \\n \\n \\n \\nModule  description  \"Applied  Computer  Science  (M.Sc.)\"                Content  Page  21 \\nModul e Name \\n \\n Distributed  Systems  Advanced  Chapters  (Vertiefung  Verteilte  Systeme)  \\nModul e Responsibility  \\n \\n Prof.  Dr. Michael  Cebulla  \\nQualification  Targets  \\n Students  extend  and deepen  their knowledge  about  architectures  of distributed  \\nsystems.  They  become  acquainted  with additional  architectures  and \\ndevelopment  platforms.  They develop  their programming  skills  concerning  the \\ndevelopment  of distributed  systems  in practical  exercises.  Generally  the focus  \\nlies on the concept  of intelligent  middleware.  \\nContent  Know  Understand  Apply  Analyze  Assess  Synthesize  \\nAnalysis and properties \\nof architectures  x x x x x  \\nService oriented \\narchitectures  x x x x x  \\nStream Processing  x x x x x  \\nActors and agents  x x x x x     \\nModul e Contents  \\n Advanced  Topics  in the Development  of Distributed  Systems:  \\n- Architectures  of Distributed  Systems:  Structure  and Properties  \\n- Serviceoriented  Architectures:  Properties,  Solutions,  Perspectives  \\n- Data -driven  Systems:  Stream  Processing  \\n- Actor  und Agent  Systems  \\n- Clustering,  Container,  Cloud  Computing  \\nTeaching  Methods  \\n Lectures  (2 hrs/week),  Exercise  (2 hrs/week ) \\nRequirements  for \\nParticipation  \\n Programming  skills  in Java  \\nLiterature  / Multimedia -\\nbased  Teaching  Material  Andrew  S. Tanenbaum,  Maarten  van Steen,  Distributed  Systems:  Principles  and \\nParadigms,  Pearson  Prentice  Hall 2007  \\nGeorge  F. Coulouris,  Jean  Dollimore,  Tim Kindberg,  Distributed  Systems:  \\nConcepts  and Design,  Pearson  Prentice  Hall, 2003  \\nNicolai  M. Josuttis,  SOA  in Practice  – The Art of Distributed  Systems  Design,  \\nO’Reilly  2007  \\nRaymond  Roestenburg,  Rob Bakker,  Rob Williams,  Akka  in Action,  Manning  \\nPublication  2016  \\nFabio  Bellifemine,  Giovanni  Caire,  Dominic  Greenwood,  Developing  Multi -Agent  \\nSystems  with JADE,  John  Wiley  & Sons,  2004  \\n \\nApplicability  \\n Master  of Applied  Computer  Science , Master  Angewandte  Medieninformatik  \\nEffort / \\nTotal  Workload  150 hours:  Presence  60 hours,  45 hours  self-study,  45 hrs exam  preparation  \\nECTS/  Emphasis  of the \\nGrade  for the final Grad e 5 CP (Emphasis  of the Grade  for the final Grade  5/120)  \\nPerformance  Record  Written  exam  \\nSemester   1st or 3rd semester  \\nFrequence  of Occurrence  \\n Every  second  year \\nDuration  One semester  \\nType  of Course  Selectable  course  from the area distributed  and mobile  systems  \\nModul e Name \\n \\n Semantic  Technologies  in Distributed  Systems  (Semantische  \\nTechnologien  in verteilten  Systemen ) ', mimetype='text/plain', start_char_idx=None, end_char_idx=None, text_template='{metadata_str}\\n\\n{content}', metadata_template='{key}: {value}', metadata_seperator='\\n'),\n",
              " Document(id_='c830f366-73f8-4323-85b6-0db4cb0039bd', embedding=None, metadata={'page_label': '22', 'file_name': 'module_manual_IMACS.pdf', 'file_path': '/content/data/module_manual_IMACS.pdf', 'file_type': 'application/pdf', 'file_size': 764114, 'creation_date': '2024-10-20', 'last_modified_date': '2024-10-20'}, excluded_embed_metadata_keys=['file_name', 'file_type', 'file_size', 'creation_date', 'last_modified_date', 'last_accessed_date'], excluded_llm_metadata_keys=['file_name', 'file_type', 'file_size', 'creation_date', 'last_modified_date', 'last_accessed_date'], relationships={}, text=' \\n \\n \\n \\n \\nModule  description  \"Applied  Computer  Science  (M.Sc.)\"                Content  Page  22 \\nModul e Responsibility  \\n \\n Prof.  Dr. Michael  Cebulla  \\nQualific ation  Targets   \\n Students  understand  concepts  and technologies  from the area „intellegen t \\nmiddleware “ and are able to apply  them.  They are able to analyze  and assess  \\nexisting  solutions  on the basis  of these  concepts.  \\n \\nContents  Know  Understand  Apply  Analy ze Assess  Synthesize  \\nOntologies  x x x x x  \\nSOA -platforms / \\nEnterprise Service Bus  x x x x x  \\nSituation monitoring/  \\nComplex Event \\nProcessing  x x x x x  \\n \\nModul e Contents  \\n Concepts  and technologies  for intelligent  midd leware:  \\n- Ontologies:  concepts  for semantic  data management,  ETL process,  \\nontology  description  languages,  knowledge  bases  and inference  \\nmechanisms  \\n- Middleware  platforms  and architectures:  Enterprise  service  bus, service  \\noriented  architectures  \\n- Process  Mining  \\n- Situation  recognition:  event -based  archite ctures, event -based  \\nprogramming,  complex  event processing  \\nTeaching  Methods  \\n Lecture  (2 SWS)  \\nRequirements  for \\nParticipation  \\n Java  Programming  \\nLiterature  / Multimedia - \\nbased  Teaching  Material  Franz  Baader,  Deborah  L. McGuinness,  Daniele  Nardi , Peter  F. Patel -\\nSchneider,  The Description  Logic  Handbook  (2nd Edition),  Cambridge  \\nUniversity  Press,  2010   \\nDavid  Chappell,  Enterprise  Service  Bus: Theory  in Practice,  O’Reilly  2004  \\nDavid  Luckham,  The Power  of Events:  An Introduction  to Complex  Event  \\nProce ssing  in Distributed  Systems,  Addison -Wesley  2002  \\nWil M. P. van der Aalst,  Process  Mining  – Data  Science  in Action,  Springer  2016  \\n \\nApplicability  \\n Master  of Applied  Computer  Science , Master  Angewandte  Medieninformatik  \\nEffort / \\nTotal  Workload  120 hrs, presence  time 45 hours,  self study  40 hrs, exam  preparation  35 hrs \\nECTS  / Emphasis  of the \\nGrade  for the final Grade  4 CP (Emphasis  of the grade  for the final grade  4/120)  \\nPerformance  Record  Written  exam  \\nSemester   \\n 1st and 3rd Semester  \\nFrequency  of Occurrence  \\n Every  second  year \\nDuration  One Semester  \\nType  of Course  Selection  area \\n  ', mimetype='text/plain', start_char_idx=None, end_char_idx=None, text_template='{metadata_str}\\n\\n{content}', metadata_template='{key}: {value}', metadata_seperator='\\n'),\n",
              " Document(id_='624aac9b-dcc8-4982-98c5-c82301f13b7b', embedding=None, metadata={'page_label': '23', 'file_name': 'module_manual_IMACS.pdf', 'file_path': '/content/data/module_manual_IMACS.pdf', 'file_type': 'application/pdf', 'file_size': 764114, 'creation_date': '2024-10-20', 'last_modified_date': '2024-10-20'}, excluded_embed_metadata_keys=['file_name', 'file_type', 'file_size', 'creation_date', 'last_modified_date', 'last_accessed_date'], excluded_llm_metadata_keys=['file_name', 'file_type', 'file_size', 'creation_date', 'last_modified_date', 'last_accessed_date'], relationships={}, text=' \\n \\n \\n \\n \\nModule  description  \"Applied  Computer  Science  (M.Sc.)\"                Content  Page  23 \\nModule  Name  \\n \\n Software  Quality  (Softwarequalität)  \\nModule  Responsibility  \\n \\n Prof.  Dr. Erwin  Neuhardt  \\nQualification  Targets  \\n The students  get to know  different  methods  for describing  and assuring  software  \\nquality.  They  know  tools  and methods  for examining  software  quality.  They  can \\napply  these  tools  and methods  to software  projects.  They  can evaluate  the \\nefficacy  of the methods  in different  application  contexts.  \\nContent s Know  Understand  Apply  Analyse  Assess  Synthesize  \\nDefinition of \\nsoftware quality  x x x    \\nTest methods  x x x x x  \\nStatic analysis  x x x x x  \\nSoftware Metrics  x x x x x  \\nTheoretical \\nbackground of \\nstatic analysis  x x     \\n \\nModule  Contents  \\n Definition  of software  quality,  test methods  for unit test, integration  test, system  \\ntest, static  analysis,  software  metrics,  tools  and methods  for examining  software  \\nquality  and measuring  metrics  \\nTeaching  Methods  \\n Lecture  (1 hour/week),  tutorial  (1 hour/week)  \\nRequirements  for \\nParticipation  \\n Skills  and knowledge  in Java  programming  and software  engineering  (at least  \\n10 ECTS)  \\nLiterature  / Multimedia -\\nbased  Teaching  Material  Binder,  Robert  V.: Testing  object -oriented  systems:  models,  patterns,  and tools,  \\nAddison -Wesley,  2000  \\nw/o author:  SonarCube  Documentation,  online  at docs.sonarqube.org  \\nReichenbach,  C.: Program  Analysis  Overview,  \\nhttps://www.youtube.com/watch?v=ABqLrCf5BsA  \\nReichenbach,  C.: Foundations  of Dataflow  Analysis,  \\nhttps://www.youtube.com/watch?v=fWoc2bZ Z59A  \\nReichenbach,  C.: Computation,  \\nhttps://www.youtube.com/watch?v=jnbMirDEByY  \\nApplicability  \\n Master  of Applied  Computer  Science,  Master  Angewandte  Medieninformatik  \\nEffort  / Total  Workload  Total  90 hours.  Attendance:  30 hours,  Self-Study:  40 hours,  Exam  Preparation  \\n20 hours  \\nECTS  / Emphasis  of the \\nGrade  for the final Grade  3 ECTS  (Emphasis  of the Grade  for the final Grade  3/120)  \\nPerformance  Record  \\n Written  Examination  \\nSemester   \\n 2nd semester  \\nFrequency  of Occurrence  \\n Once  during  the academic  year \\nDuration  \\n One semester  \\nType  of Course  \\n Compulsory  optional  course  from the area software  engineering  \\nModule  Name  Text Mining  and Search  ', mimetype='text/plain', start_char_idx=None, end_char_idx=None, text_template='{metadata_str}\\n\\n{content}', metadata_template='{key}: {value}', metadata_seperator='\\n'),\n",
              " Document(id_='a67e7fe9-af6e-4d92-8f0c-e5971cf00611', embedding=None, metadata={'page_label': '24', 'file_name': 'module_manual_IMACS.pdf', 'file_path': '/content/data/module_manual_IMACS.pdf', 'file_type': 'application/pdf', 'file_size': 764114, 'creation_date': '2024-10-20', 'last_modified_date': '2024-10-20'}, excluded_embed_metadata_keys=['file_name', 'file_type', 'file_size', 'creation_date', 'last_modified_date', 'last_accessed_date'], excluded_llm_metadata_keys=['file_name', 'file_type', 'file_size', 'creation_date', 'last_modified_date', 'last_accessed_date'], relationships={}, text=' \\n \\n \\n \\n \\nModule  description  \"Applied  Computer  Science  (M.Sc.)\"                Content  Page  24 \\nModule  Responsibility  \\n Prof.  Dr. Englmeier  \\nQualification  Targets  \\n Knowing/Perceiving:  Students  learn  essentials  in content  extraction  and \\ninformation  retrieval  as the basis  of content  analysis  in texts,  which,  in \\nturn, provide  the theoretical  basis  for the successful  design  of advanced  \\ncontent  analysis.  \\nApplying:  The students  implement  the methods  they learn  while  using \\nwell-established  tools  for data analysis  (for example,  Apache  Lucene),  \\nwhich  are valuable  for the design  of search  engines.  \\nAnalyzing/Evaluating:  In the teamwork  of the project,  the students  apply  \\ntheir theoretical  design  knowledge  in the development  of specialty  search  \\nengines.  They  embrace  thus the design  versatility  in the development  of \\nfeatures  for text analysis  and retrieval.  In their practical  work  they can \\nreflect  the effectiveness  and potentials  of their design  approaches.  \\nSynthesizing:  The resul t of the course  is manifested  in a course -wide \\nproject  that involves  the development  of a search  engine  with special  \\nsearch  features.  Application  development  is thereby  broken  down  into \\nsmaller  work  packages.  Each  team  (two or three  students)  assumes  a \\nwork package,  organizes  its individual  tasks,  and contributes  to the \\nmanagement  of the overall  project.  \\nThe self-empowered  organization  of the project  work  also includes  \\nexplorative  learning.  Students  are so encouraged  to learn  new \\nmethodologies  or tools  on their own (with  support  from the professor),  \\nprovided  their individual  part of the project  work  requires  that. \\nContent  Knowing  Perceivin\\ng Applying  Analyzi ng Evaluat in\\ng Synthesiz\\ning \\nBasics  X X     \\nUser  \\ninteraction   X X X  X \\nRetrieval  \\nmodels  & \\nevaluation  X X X X X X \\nApache  \\nLucene   X X X X X \\nContent  \\nextraction  X X X X X X \\nIndexing   X X X X X \\nQuery  \\nmatching   X X X X X ', mimetype='text/plain', start_char_idx=None, end_char_idx=None, text_template='{metadata_str}\\n\\n{content}', metadata_template='{key}: {value}', metadata_seperator='\\n'),\n",
              " Document(id_='1f1ba468-5163-4ca5-8c7b-2e4498071b58', embedding=None, metadata={'page_label': '25', 'file_name': 'module_manual_IMACS.pdf', 'file_path': '/content/data/module_manual_IMACS.pdf', 'file_type': 'application/pdf', 'file_size': 764114, 'creation_date': '2024-10-20', 'last_modified_date': '2024-10-20'}, excluded_embed_metadata_keys=['file_name', 'file_type', 'file_size', 'creation_date', 'last_modified_date', 'last_accessed_date'], excluded_llm_metadata_keys=['file_name', 'file_type', 'file_size', 'creation_date', 'last_modified_date', 'last_accessed_date'], relationships={}, text=' \\n \\n \\n \\n \\nModule  description  \"Applied  Computer  Science  (M.Sc.)\"                Content  Page  25 \\nModule  Contents  1. Fundamentals  in Information  Retrieval  (IR) \\n• Basic  IR concepts  \\n• Regular  Expressions  \\n• XML \\n2. User  Interaction  \\n• User  story  structure  & validation   \\n• Feature  charts  \\n• User  support  \\n3. Retrieval  models  & evaluation  \\n4. Apache  Lucene  \\n• Modules  \\n• Integration  (Java)  \\n5. Indexing  \\n• Tokeniz ation  \\n• Stopwords  \\n• Stemming  \\n• Synonyms  \\n6. Query  matching  \\n• Query  vectors  \\n• Matching  models  \\nTeaching  Modalities  Lectures,  workshops,  team  cooperation  \\nRequirements  for \\nParticipation  Solid  practical  programming  skills \\nLiterature  / Multimedia -\\nbased  Teaching  Material  Baeza -Yates,  R.; Ribeiro -Neto,  B.: “Modern  Information  Retrieval ”, ACM  \\nPress,  New York,  1999.  \\nMcCandless,  M. et al: “Lucene  in Action ”, Second  Edition,  Manning,  \\nStamford,  2010  \\nApplication  examples  from search  engines  in practice  \\nApplicability  Master  Applied  Computer  Science  \\nEffort/  \\nTotal  Workload  Total  90 hours.  Attendance:  30 hours,  Self-Study:  30 hours,  Practical  \\nwork:  30 hours   \\nECTS/  Emphasis  of the \\nGrade  for the final Grade  3 CP (Emphasis  of the Grade  for the final Grade  3/120)  \\nPerformance  Record  Project  work  \\nSemester  2nd semester  \\nFrequency  of the course  Once  during  the academic  year (summer  semester)  \\nDuration  One semester  \\nType  of Course  Compulsory  elective  course   ', mimetype='text/plain', start_char_idx=None, end_char_idx=None, text_template='{metadata_str}\\n\\n{content}', metadata_template='{key}: {value}', metadata_seperator='\\n'),\n",
              " Document(id_='a0ac7380-f83c-4d13-8704-225d95bc42a1', embedding=None, metadata={'page_label': '26', 'file_name': 'module_manual_IMACS.pdf', 'file_path': '/content/data/module_manual_IMACS.pdf', 'file_type': 'application/pdf', 'file_size': 764114, 'creation_date': '2024-10-20', 'last_modified_date': '2024-10-20'}, excluded_embed_metadata_keys=['file_name', 'file_type', 'file_size', 'creation_date', 'last_modified_date', 'last_accessed_date'], excluded_llm_metadata_keys=['file_name', 'file_type', 'file_size', 'creation_date', 'last_modified_date', 'last_accessed_date'], relationships={}, text=' \\n \\n \\n \\n \\nModule  description  \"Applied  Computer  Science  (M.Sc.)\"                Content  Page  26 \\n \\n \\n \\n \\nOptional section  II \\n  ', mimetype='text/plain', start_char_idx=None, end_char_idx=None, text_template='{metadata_str}\\n\\n{content}', metadata_template='{key}: {value}', metadata_seperator='\\n'),\n",
              " Document(id_='4fb7d122-f9c1-4d48-95b7-25c55ea5e7b7', embedding=None, metadata={'page_label': '27', 'file_name': 'module_manual_IMACS.pdf', 'file_path': '/content/data/module_manual_IMACS.pdf', 'file_type': 'application/pdf', 'file_size': 764114, 'creation_date': '2024-10-20', 'last_modified_date': '2024-10-20'}, excluded_embed_metadata_keys=['file_name', 'file_type', 'file_size', 'creation_date', 'last_modified_date', 'last_accessed_date'], excluded_llm_metadata_keys=['file_name', 'file_type', 'file_size', 'creation_date', 'last_modified_date', 'last_accessed_date'], relationships={}, text=' \\n \\n \\n \\n \\nModule  description  \"Applied  Computer  Science  (M.Sc.)\"                Content  Page  27 \\nModule  Name  \\n eBusiness  \\nModul e Responsibility  \\n \\n Prof.  Dr. Thomas  Urban  \\nQualification  Targets   \\n Expertise  is in terms  of knowledge  and understanding  of business  models  and \\nprocesses,  provides  typical  eBusiness  architectures  and social  media  \\ncharacteristics  and the design  of specific  marketing  requirements.  The basic  \\ntechnical  standards  are considered . Methodological  expertise  is sought  in \\nparticular  in the process  design,  the implementation  and realization  of customer  \\nrelationship  based  marketing  concepts  in eBusiness.  \\nModul e Contents  \\n Based  on the technical  and economics  requirements  regarding  the \\nimplementation  of electronic  business  processes  and the economic  \\ncharacteristics  of the Net Economy,  different  forms  of communication  and \\ntransactions  between  business  partners  are discussed.  This concerns  the \\ndesign  of the procurement  (eProcurement),  sales  (eShop)  and mediation  \\nprocesses  (eMarketplace)  and on the other  hand  also with Web 2.0 created  \\nelectronic  contact  networks  (eCommunitys).  In addition  to discussing  the \\nsystem  requirements,  process  design  requirements  and management  \\nrequirements  specific  design  requirements  on the marketing  and \\nimplementation  of electronic  platforms  for business  transactions  are treated.  \\nTeaching  Methods  \\n Overhead,  Power -Point -slides  \\nRequirements  for \\nParticipation  \\n Basic  knowledge  of information  management  and distributed  systems  ; Basic  \\nknowledge  in business  administration  \\nLiterature  / Multimedia -\\nbased  Teaching  Material  Hass,  B./Walsh,  G./ Kilian,  Th. (Hrsg.)  (2008):  Web 2.0 – Neue  Perspektiven  für \\nMarketing  und Medien;  Springer  Verlag  Heidelberg  \\nKollmann,  T. (2013):  E-Business,  Gabler  Verlag  Wiesbaden  \\nMeier,  A./Stormer,  H. (2008):  eBusiness  & eCommerce  - Management  der \\ndigitalen  Wertschöpfungskette;  Springer  Verlag  Heidelberg,  2. Auflage  \\nMerz,  M. (2002):  E-Commerce  und E-Business,  dpunkt.verlag  Heidelberg  \\nSigler,  C. (2010):  Online -Medienmanagement  \\nThome,  R. et al. (2005):  Electronic  Commerce  und Electronic  Business,  Verlag  \\nVahlen  München  \\nWeiber,  R. (2002):  Handbuch  Electronic  Business,  Gabler  Verlag  Wiesbaden  \\nWirtz,  B. W. (2013):  Electronic  Business,  Springer  Gabler  Verlag  Wiesbaden  \\nApplicability  \\n The module  aims  to provide  a practical  orientation  by specifying  concrete  \\nproblems  of business  practices  and exemplary  propose  solutions  based  on a \\ntheoretical  framework.  Furthermore,  realized  through  the integration  of best-\\npractice  lectures  the close  integration  of theory  and practice.  \\nEffort / \\nTotal  Workload  \\n Contact  time/Presence  studies  30 hours;  Self-study  and 50 hours;  Test and \\nexam  preparation  time:  10 hours  \\nECTS/  Emphasis  of the \\nGrade  for the final Grade  3 ', mimetype='text/plain', start_char_idx=None, end_char_idx=None, text_template='{metadata_str}\\n\\n{content}', metadata_template='{key}: {value}', metadata_seperator='\\n'),\n",
              " Document(id_='ece828c9-5171-48bc-b3b1-f8c3d191b2d5', embedding=None, metadata={'page_label': '28', 'file_name': 'module_manual_IMACS.pdf', 'file_path': '/content/data/module_manual_IMACS.pdf', 'file_type': 'application/pdf', 'file_size': 764114, 'creation_date': '2024-10-20', 'last_modified_date': '2024-10-20'}, excluded_embed_metadata_keys=['file_name', 'file_type', 'file_size', 'creation_date', 'last_modified_date', 'last_accessed_date'], excluded_llm_metadata_keys=['file_name', 'file_type', 'file_size', 'creation_date', 'last_modified_date', 'last_accessed_date'], relationships={}, text=' \\n \\n \\n \\n \\nModule  description  \"Applied  Computer  Science  (M.Sc.)\"                Content  Page  28 \\nPerformance  Record  written  exam  \\nSemester   \\n 2 \\nFrequency  of Occurrence  \\n winter  semester  \\nDuration  1 semester  \\nType  of Course  \\n lecture  \\n  ', mimetype='text/plain', start_char_idx=None, end_char_idx=None, text_template='{metadata_str}\\n\\n{content}', metadata_template='{key}: {value}', metadata_seperator='\\n'),\n",
              " Document(id_='d95d5b32-29e0-4dba-ab7f-0a766562fb61', embedding=None, metadata={'page_label': '29', 'file_name': 'module_manual_IMACS.pdf', 'file_path': '/content/data/module_manual_IMACS.pdf', 'file_type': 'application/pdf', 'file_size': 764114, 'creation_date': '2024-10-20', 'last_modified_date': '2024-10-20'}, excluded_embed_metadata_keys=['file_name', 'file_type', 'file_size', 'creation_date', 'last_modified_date', 'last_accessed_date'], excluded_llm_metadata_keys=['file_name', 'file_type', 'file_size', 'creation_date', 'last_modified_date', 'last_accessed_date'], relationships={}, text=' \\n \\n \\n \\n \\nModule  description  \"Applied  Computer  Science  (M.Sc.)\"                Content  Page  29 \\n \\nModule  Name  Human -Computer  Interaction  \\nModule  Responsibility  Prof.  Dr. Englmeier  \\nQualification  Targets  Knowing/Perceiving:  Students  learn  essentials  in cognitive  science  as \\nthe basis  of human -machine  communication,  which,  in turn, provide  the \\ntheoretical  basis  for the successful  design  of user interaction.  They  deal \\nin particular  with the user and task analysis.  \\nApplying:  The theoretical  knowledge  guides  the students  in developing  \\nuser stories  that serve  as blueprints  for the user interaction.  The course  \\nemphasizes  the implementation  of interaction  in different  environme nts \\nusing,  for example,  the description  language  for user interfaces  in mobile  \\napplications  (XAML  etc.).  It outlines  in particular  the role of natural  \\nlanguage  in interaction.  \\nAnalyzing/Evaluating:  Students  develop  in teams  concrete  user \\ninterfaces  for different  tasks.  According  to the task and user analysis  they \\nset up objectives,  that are validated  in the actual  implementation.  \\nSynthesizing:  The result  of the course  is manifested  in a course -wide \\nproject  that involves  the development  of an application  with a high degree  \\nof user interaction.  Application  development  is thereby  broken  down  into \\nsmaller  work  packages.  Each  team  (two or three  students)  assumes  a \\nwork  package,  organizes  its individual  tasks,  and contributes  to the \\nmanagement  of the overall  project.  \\nThe self-empowered  organization  of the project  work  also includes  \\nexplorative  learning.  Students  are so encouraged  to learn  new \\nmethodologies  or tools  on their own (with  support  from the professor),  \\nprovided  their individual  part of the project  work  requires  that. \\nContent  Knowing  Perceivi\\nng Applying  Analyz in\\ng Evaluat i\\nng Synthez i\\nsing \\nBasics  in \\ncognition  X X X X   \\nUser  \\nanalysis  X X X X X X \\nDesign,  \\nImpemen\\ntation  X X X X X X \\nEvaluatio\\nn   X X X X ', mimetype='text/plain', start_char_idx=None, end_char_idx=None, text_template='{metadata_str}\\n\\n{content}', metadata_template='{key}: {value}', metadata_seperator='\\n'),\n",
              " Document(id_='bad634b8-3245-441a-bbfe-fdba6425f181', embedding=None, metadata={'page_label': '30', 'file_name': 'module_manual_IMACS.pdf', 'file_path': '/content/data/module_manual_IMACS.pdf', 'file_type': 'application/pdf', 'file_size': 764114, 'creation_date': '2024-10-20', 'last_modified_date': '2024-10-20'}, excluded_embed_metadata_keys=['file_name', 'file_type', 'file_size', 'creation_date', 'last_modified_date', 'last_accessed_date'], excluded_llm_metadata_keys=['file_name', 'file_type', 'file_size', 'creation_date', 'last_modified_date', 'last_accessed_date'], relationships={}, text=' \\n \\n \\n \\n \\nModule  description  \"Applied  Computer  Science  (M.Sc.)\"                Content  Page  30 \\nModule  Contents  \\n 1. Basics  \\n• Essentials  in Cognition  \\n• Basic  Information  Retrieval  (IR) concepts  \\n• Regular  Expressions  \\n• XML \\n2. User  Analysis  \\n• How to Define  Users  and Tasks   \\n• Mental  Models  \\n• Development  of User  Stories   \\n3. Design,  Implementation  \\n• GUI controls  \\n• XAML  \\n• GUI Development  in Different  Environments  \\n4. Evaluation  \\n• Usabilit y Principles  \\n• Methods  \\nTeaching  Methods  \\n Lectures  supported  with multimedia  courses  offered  by ACM.  Workshops,  \\nteam  cooperation  \\nRequirements  for \\nParticipation  Solid  practical  programming  skills  \\nLiterature  / Multimedia -\\nbased  Teaching  Material  Carroll,  J.M.: ”Human -Computer  Interaction  in the New Millennium ”, ACM  \\nPress,  New York,  2001.   \\nCohn,  M.: “User  Stories  Applied ”, Addison -Wesley,  2004.  \\nOnline  Courses  of ACM  addressing  User  Stories  und User -Centred  \\nDesign  \\nApplicability  Master  Applied  Computer  Science  \\nEffort/  \\nTotal  Workload  Total  150 hours.  Attendance:  60 hours,  Self-Study:  45 hours,  Exam  \\nPreparation  45 hours  \\nECTS/  Emphasis  of the \\nGrade  for the final Grade  5 CP (Emphasis  of the Grade  for the final Grade  5/120)  \\nPerformance  Record  Project  work  \\nSemester   2nd semester  \\nFrequency  of the course  Once  during  the academic  year (summer  semester)  \\nDuration  One semester  \\nType  of Course  Elective  course   \\n  ', mimetype='text/plain', start_char_idx=None, end_char_idx=None, text_template='{metadata_str}\\n\\n{content}', metadata_template='{key}: {value}', metadata_seperator='\\n'),\n",
              " Document(id_='4b822411-ddbe-491a-97ae-a941e8dbed65', embedding=None, metadata={'page_label': '31', 'file_name': 'module_manual_IMACS.pdf', 'file_path': '/content/data/module_manual_IMACS.pdf', 'file_type': 'application/pdf', 'file_size': 764114, 'creation_date': '2024-10-20', 'last_modified_date': '2024-10-20'}, excluded_embed_metadata_keys=['file_name', 'file_type', 'file_size', 'creation_date', 'last_modified_date', 'last_accessed_date'], excluded_llm_metadata_keys=['file_name', 'file_type', 'file_size', 'creation_date', 'last_modified_date', 'last_accessed_date'], relationships={}, text=' \\n \\n \\n \\n \\nModule  description  \"Applied  Computer  Science  (M.Sc.)\"                Content  Page  31 \\nModul  Name  \\n \\n Image  Processing  1   \\nModul  Responsibility  \\n \\n Prof.  Dr. Klaus  Chantelau  \\nQualification  Targets   \\n Students  should  be able \\n \\nto analyse  typical  problems  of the development  of audio -visual  digital  formats    \\nto understand  the foundations  of the compression  of audio -visual  signals   \\nto understand  the methods  and the structure  of audio -visual  digital  standards  \\n(G7xx,  mp3,  GIF/PNG,  JPEG,  H26x,  MPEG1  / 2 / 4 ) \\nto apply  the most  important  mathematical  and algorithmical  methods  for the \\ndevelopment  of compression  software  moduls      \\n \\nModul e Contents  \\n Color  Spaces,  filtering  processes,  Fourier,  DCT,  and wavelet  transform,  image  \\nsegmentation,  motion  estimation  and image  recognition.  A method  for data \\ncompression  (entropy  coding,  transform  coding,  predictive  coding),  quantization,  \\nsignal  processing  of the human  visual  system,  motion  prediction   \\n \\nTeaching  Methods  \\n Blackboard  lectures,  PowerPoint  slides,  computer  exercises.   \\nRequirements  for \\nParticipation  \\n Fundamentals  of Linear  Algebra  and Programming,  the scope  of the Bachelor  \\nModule  Multimedia  and Communications  Systems.   \\n \\nLiterature  / Multimedia  \\nbased  Teaching  Material  „Digitale  Bildcodierung“  - Jens  Rainer  Ohm  \\nSpringer  1995,  ISBN  3-540-58579 -6 \\n \\n“A Wavelet  Tour of Signal  Processing”  - Stephane  Mallat  \\nAcademic  Press  1999,  ISBN  0-12-466606 -X  \\n \\n„Bildverarbeitung  für die Medizin“  - Lehmann  et al. \\nSpringer  1997,  ISBN3 -540-61458 -3 \\n \\n“Coding  and Information  Theory”  - Steven  Roman  \\nSpringer  1992  \\n \\n„Digitale  Fernsehtechnik:  Datenkompression  und Übertragung  für DVB“ \\n2.Auflage   - Ulrich  Reimers  \\nSpringer  1997,  ISBN  3-540-60945 -8 \\n \\nApplicability  \\n Master  Applied  Computer  Science,  Master  Angewandte  Medieninformatik  \\nEffort/  Total  Workload  Total  150 hours . Attendance:  60 hours,  Self-Study:  45 hours,  Exam  Preparation  \\n45 hours  \\nECTS  / Emphasis  of the \\nGrade  for the final Grade   5 CP (Emphasis  of the Grade  for the final Grade  5/120)  \\nPerformance  Record  Written  examination  \\nSemester   \\n 1st semester   \\n \\nFrequency  of Occurence  \\n Once  during  the academic  year (winter  semester)  \\nDuration  One semester  \\nType  of Course  \\n Elective  course  \\n ', mimetype='text/plain', start_char_idx=None, end_char_idx=None, text_template='{metadata_str}\\n\\n{content}', metadata_template='{key}: {value}', metadata_seperator='\\n'),\n",
              " Document(id_='be87800c-8522-48ee-ad3c-27e93e45f9dd', embedding=None, metadata={'page_label': '32', 'file_name': 'module_manual_IMACS.pdf', 'file_path': '/content/data/module_manual_IMACS.pdf', 'file_type': 'application/pdf', 'file_size': 764114, 'creation_date': '2024-10-20', 'last_modified_date': '2024-10-20'}, excluded_embed_metadata_keys=['file_name', 'file_type', 'file_size', 'creation_date', 'last_modified_date', 'last_accessed_date'], excluded_llm_metadata_keys=['file_name', 'file_type', 'file_size', 'creation_date', 'last_modified_date', 'last_accessed_date'], relationships={}, text=' \\n \\n \\n \\n \\nModule  description  \"Applied  Computer  Science  (M.Sc.)\"                Content  Page  32 \\nModule  Name  \\n \\n Image  Processing  2 \\nModule  Responsibility  \\n \\n Prof.  Dr. Klaus  Chantelau  \\nQualification  Targets   \\n The students  should  be able to \\n \\nanalyze  typical  problems  of the processing  of digital  audio -visual  signals   \\nto understand  the most  important  mathematical  and algorithmic  methods  for \\nfeature  extraction,  classification  and 3D analysis  of audio -visual  signals.  \\nThe student  should  be able to apply  mathematical  and algorithmic  methods  for \\nthe development  of audio  and image  analysis  software  modules.   \\n  \\nModule  Contents  \\n Image  acquisition  and illumination,  image  conversion  (front -background  \\nseparation,  transformations,  ...), image  enhancement  (filtering,  segmentation,  \\nlabeling,  ...), feature  extraction,  (geometry  / contour  descriptors,  texture  \\ndescriptors,  ...), 3D scene  analysis,  classification  and measurement   \\nTeaching  Methods  \\n Blackboard  lectures,  PowerPoint  slides,  computer  exercises.   \\nRequirements  for \\nParticipation  \\n Modul  Image  Processi ng 1 \\nLiterature  / Multimedia  \\nbased  Teaching  Material  „Handbuch  zur Industriellen  Bildverarbeitung“,  FhG IRB Verlag,  2007  \\nISBN  978-3-8167 -7386 -3 \\n \\n“Introduction  to MPEG  7” - Manjunath,  Salembier,  Sikora  \\nWiley  2003,  ISBN  0-471-48678 -7  \\n \\n“Stereoanalyse  und Bildsynthese ”, O. Schreer,  Springer  2005,  ISBN  3-540-\\n23439 -X \\nApplicability  \\n Master  Medieninformatik,  Master  Applied  Computer  Science   \\nEffort/  Total  Workload  Total  90 hours . Attendance:  30 hours,  Self-Study:  45 hours,  Exam  Preparation  \\n15 hours   \\nECTS  / Emphasis  of the \\nGrade  for the final Grade   3 CP  \\nPerformance  Record  Written  exam  \\nSemester   \\n 3rd semester   \\nFrequency  of Occurence  \\n Once  during  the academic  year (winter  semester)  \\nDuration  One semester  \\n \\nType  of Course  \\n Elective  Course  \\n  ', mimetype='text/plain', start_char_idx=None, end_char_idx=None, text_template='{metadata_str}\\n\\n{content}', metadata_template='{key}: {value}', metadata_seperator='\\n'),\n",
              " Document(id_='fb35ce46-581c-4184-99a2-22cf1b57cc97', embedding=None, metadata={'page_label': '33', 'file_name': 'module_manual_IMACS.pdf', 'file_path': '/content/data/module_manual_IMACS.pdf', 'file_type': 'application/pdf', 'file_size': 764114, 'creation_date': '2024-10-20', 'last_modified_date': '2024-10-20'}, excluded_embed_metadata_keys=['file_name', 'file_type', 'file_size', 'creation_date', 'last_modified_date', 'last_accessed_date'], excluded_llm_metadata_keys=['file_name', 'file_type', 'file_size', 'creation_date', 'last_modified_date', 'last_accessed_date'], relationships={}, text=' \\n \\n \\n \\n \\nModule  description  \"Applied  Computer  Science  (M.Sc.)\"                Content  Page  33 \\nModul  Name  \\n \\n Media  Production  1 \\nModul  Responsibility  \\n \\n Prof.  Dr. Klaus  Chantelau  \\nQualification  Targets   \\n The students  should  be able to \\n \\n− analyze  typical  problems  in the field of video  production  \\n− to understand  the technical  quality  features  of videos  \\n− to use the main  software  tools  for video  production.     \\n− to use the lighting,  recording  and post-production  equipment  of a virtual  \\nstudio  for video  production  . \\nModule  Contents  \\n Practically -oriented  exercises  with animation,  audio  and video  production  tools,  \\nespecially  Maxon  Cinema  4D, Adobe  Master  Collection.  \\nVideo  camera  technology,  video  lighting  equipment.  \\nTheory  and practice  of recording  technology  and the use of green  screen  \\ntechnology  with real-time systems,  video  composition  with Adobe  After  Effects \\nand video  editing  with Adobe  Premiere  and DaVinci  Resolve.  Sound  creation  and \\ncomposition  with Cubase  \\nTeaching  Methods  \\n Slides, computer exercises  (C4D, Adobe Master -Collection),  exercises in a \\ngreen screen studio . \\nRequirements  for \\nParticipation  \\n The scope  of the Bachelor  Module  Multimedia  and Communications  Systems.   \\nLiterature  / Multimedia  \\nbased  Teaching  Material   \\n„Professionelle  Videotechnik“  - U. Schmidt  \\nSpringer  2000,  ISBN  3-540-66854 - \\n“Cinema  4D 12”, Andreas  Ansanger,  Galileo  Design  2011,  ISBN  9-783-836-21-\\n7071  \\n“Adobe  After  Effects  CS 5”, Philippe  Fontaine,  Gaileo  Design  2011,  ISBN  978-3-\\n8362 -1593 -0  \\nApplicability  \\n Master Angewandte Medieninformatik, Master Applied Computer Science  \\nEffort/  Total  Workload  Total  90 hours . Attendance:  30 hours,  Self-Study:  30 hours,  Exam  Preparation  30 \\nhours   \\nECTS  / Emphasis  of the \\nGrade  for the final Grade   3 CP  \\nPerformance  Record  Project  and project  defense   \\nSemester   \\n 2nd semester   \\n \\nFrequency  of Occurence  \\n Once  during  the academic  year (winter  semester)  \\nDuration  One semester  \\nType  of Course  \\n Elective  course  \\n ', mimetype='text/plain', start_char_idx=None, end_char_idx=None, text_template='{metadata_str}\\n\\n{content}', metadata_template='{key}: {value}', metadata_seperator='\\n')]"
            ]
          },
          "metadata": {},
          "execution_count": 8
        }
      ]
    },
    {
      "cell_type": "code",
      "source": [
        "system_prompt=\"\"\"\n",
        "You are a Q&A assistant. Your goal is to answer questions as\n",
        "accurately as possible based on the instructions and context provided.\n",
        "\"\"\"\n",
        "## Default format supportable by LLama2\n",
        "query_wrapper_prompt=SimpleInputPrompt(\"<|USER|>{query_str}<|ASSISTANT|>\")"
      ],
      "metadata": {
        "id": "cXkfdhINXBvU"
      },
      "execution_count": 9,
      "outputs": []
    },
    {
      "cell_type": "code",
      "source": [
        "!huggingface-cli login"
      ],
      "metadata": {
        "colab": {
          "base_uri": "https://localhost:8080/"
        },
        "id": "MWrpqcXOXGYS",
        "outputId": "fe196e2a-7119-494e-c9d9-7f6d3d88a489"
      },
      "execution_count": 11,
      "outputs": [
        {
          "output_type": "stream",
          "name": "stdout",
          "text": [
            "\n",
            "    _|    _|  _|    _|    _|_|_|    _|_|_|  _|_|_|  _|      _|    _|_|_|      _|_|_|_|    _|_|      _|_|_|  _|_|_|_|\n",
            "    _|    _|  _|    _|  _|        _|          _|    _|_|    _|  _|            _|        _|    _|  _|        _|\n",
            "    _|_|_|_|  _|    _|  _|  _|_|  _|  _|_|    _|    _|  _|  _|  _|  _|_|      _|_|_|    _|_|_|_|  _|        _|_|_|\n",
            "    _|    _|  _|    _|  _|    _|  _|    _|    _|    _|    _|_|  _|    _|      _|        _|    _|  _|        _|\n",
            "    _|    _|    _|_|      _|_|_|    _|_|_|  _|_|_|  _|      _|    _|_|_|      _|        _|    _|    _|_|_|  _|_|_|_|\n",
            "\n",
            "    A token is already saved on your machine. Run `huggingface-cli whoami` to get more information or `huggingface-cli logout` if you want to log out.\n",
            "    Setting a new token will erase the existing one.\n",
            "    To login, `huggingface_hub` requires a token generated from https://huggingface.co/settings/tokens .\n",
            "Enter your token (input will not be visible): \n",
            "Add token as git credential? (Y/n) y\n",
            "Token is valid (permission: read).\n",
            "\u001b[1m\u001b[31mCannot authenticate through git-credential as no helper is defined on your machine.\n",
            "You might have to re-authenticate when pushing to the Hugging Face Hub.\n",
            "Run the following command in your terminal in case you want to set the 'store' credential helper as default.\n",
            "\n",
            "git config --global credential.helper store\n",
            "\n",
            "Read https://git-scm.com/book/en/v2/Git-Tools-Credential-Storage for more details.\u001b[0m\n",
            "Token has not been saved to git credential helper.\n",
            "Your token has been saved to /root/.cache/huggingface/token\n",
            "Login successful\n"
          ]
        }
      ]
    },
    {
      "cell_type": "code",
      "source": [
        "import torch\n",
        "\n",
        "llm = HuggingFaceLLM(\n",
        "    context_window=4096,\n",
        "    max_new_tokens=256,\n",
        "    generate_kwargs={\"temperature\": 0.0, \"do_sample\": False},\n",
        "    system_prompt=system_prompt,\n",
        "    query_wrapper_prompt=query_wrapper_prompt,\n",
        "    tokenizer_name=\"meta-llama/Llama-2-7b-chat-hf\",\n",
        "    model_name=\"meta-llama/Llama-2-7b-chat-hf\",\n",
        "    device_map=\"auto\",\n",
        "    # uncomment this if using CUDA to reduce memory usage\n",
        "    model_kwargs={\"torch_dtype\": torch.float16 , \"load_in_8bit\":True}\n",
        ")"
      ],
      "metadata": {
        "colab": {
          "base_uri": "https://localhost:8080/",
          "height": 86,
          "referenced_widgets": [
            "674a9dd71703457091e751825dfdcb92",
            "b34683bd07784b2fbec585583ee22b1d",
            "b22e0c118d784bba9d8f0e92894c2fe1",
            "68adc7a1357948f9ae345c1a3dce25ce",
            "8487a103aa6d453d83bda335ce26ec31",
            "eb923259ce544fa4850834f57afa848e",
            "cb9033ebc75a46ac9ff744215d32586a",
            "7b57227bec6d4e4388019f74e98abb34",
            "289cb5bbf3b84cadbdc0e4f7794ff8ac",
            "6da4383cecbd4c75a28abc0aaf5457f9",
            "e19bfb2020dd4b78a0613eb008e53ac6"
          ]
        },
        "id": "5c1KJARjXlw2",
        "outputId": "00e3f030-f141-4d5d-bd74-92daf617737e"
      },
      "execution_count": 12,
      "outputs": [
        {
          "output_type": "stream",
          "name": "stderr",
          "text": [
            "The `load_in_4bit` and `load_in_8bit` arguments are deprecated and will be removed in the future versions. Please, pass a `BitsAndBytesConfig` object in `quantization_config` argument instead.\n"
          ]
        },
        {
          "output_type": "display_data",
          "data": {
            "text/plain": [
              "Loading checkpoint shards:   0%|          | 0/2 [00:00<?, ?it/s]"
            ],
            "application/vnd.jupyter.widget-view+json": {
              "version_major": 2,
              "version_minor": 0,
              "model_id": "674a9dd71703457091e751825dfdcb92"
            }
          },
          "metadata": {}
        }
      ]
    },
    {
      "cell_type": "code",
      "source": [
        "!pip install -U langchain-community"
      ],
      "metadata": {
        "colab": {
          "base_uri": "https://localhost:8080/"
        },
        "id": "ryCOkkqZYHX8",
        "outputId": "ba189541-7e31-4ecf-b3b9-3fe81ddb616a"
      },
      "execution_count": 13,
      "outputs": [
        {
          "output_type": "stream",
          "name": "stdout",
          "text": [
            "Requirement already satisfied: langchain-community in /usr/local/lib/python3.10/dist-packages (0.3.3)\n",
            "Requirement already satisfied: PyYAML>=5.3 in /usr/local/lib/python3.10/dist-packages (from langchain-community) (6.0.2)\n",
            "Requirement already satisfied: SQLAlchemy<3,>=1.4 in /usr/local/lib/python3.10/dist-packages (from langchain-community) (2.0.36)\n",
            "Requirement already satisfied: aiohttp<4.0.0,>=3.8.3 in /usr/local/lib/python3.10/dist-packages (from langchain-community) (3.10.10)\n",
            "Requirement already satisfied: dataclasses-json<0.7,>=0.5.7 in /usr/local/lib/python3.10/dist-packages (from langchain-community) (0.6.7)\n",
            "Requirement already satisfied: langchain<0.4.0,>=0.3.4 in /usr/local/lib/python3.10/dist-packages (from langchain-community) (0.3.4)\n",
            "Requirement already satisfied: langchain-core<0.4.0,>=0.3.12 in /usr/local/lib/python3.10/dist-packages (from langchain-community) (0.3.12)\n",
            "Requirement already satisfied: langsmith<0.2.0,>=0.1.125 in /usr/local/lib/python3.10/dist-packages (from langchain-community) (0.1.136)\n",
            "Requirement already satisfied: numpy<2,>=1 in /usr/local/lib/python3.10/dist-packages (from langchain-community) (1.26.4)\n",
            "Requirement already satisfied: pydantic-settings<3.0.0,>=2.4.0 in /usr/local/lib/python3.10/dist-packages (from langchain-community) (2.6.0)\n",
            "Requirement already satisfied: requests<3,>=2 in /usr/local/lib/python3.10/dist-packages (from langchain-community) (2.32.3)\n",
            "Requirement already satisfied: tenacity!=8.4.0,<10,>=8.1.0 in /usr/local/lib/python3.10/dist-packages (from langchain-community) (8.5.0)\n",
            "Requirement already satisfied: aiohappyeyeballs>=2.3.0 in /usr/local/lib/python3.10/dist-packages (from aiohttp<4.0.0,>=3.8.3->langchain-community) (2.4.3)\n",
            "Requirement already satisfied: aiosignal>=1.1.2 in /usr/local/lib/python3.10/dist-packages (from aiohttp<4.0.0,>=3.8.3->langchain-community) (1.3.1)\n",
            "Requirement already satisfied: attrs>=17.3.0 in /usr/local/lib/python3.10/dist-packages (from aiohttp<4.0.0,>=3.8.3->langchain-community) (24.2.0)\n",
            "Requirement already satisfied: frozenlist>=1.1.1 in /usr/local/lib/python3.10/dist-packages (from aiohttp<4.0.0,>=3.8.3->langchain-community) (1.4.1)\n",
            "Requirement already satisfied: multidict<7.0,>=4.5 in /usr/local/lib/python3.10/dist-packages (from aiohttp<4.0.0,>=3.8.3->langchain-community) (6.1.0)\n",
            "Requirement already satisfied: yarl<2.0,>=1.12.0 in /usr/local/lib/python3.10/dist-packages (from aiohttp<4.0.0,>=3.8.3->langchain-community) (1.15.2)\n",
            "Requirement already satisfied: async-timeout<5.0,>=4.0 in /usr/local/lib/python3.10/dist-packages (from aiohttp<4.0.0,>=3.8.3->langchain-community) (4.0.3)\n",
            "Requirement already satisfied: marshmallow<4.0.0,>=3.18.0 in /usr/local/lib/python3.10/dist-packages (from dataclasses-json<0.7,>=0.5.7->langchain-community) (3.23.0)\n",
            "Requirement already satisfied: typing-inspect<1,>=0.4.0 in /usr/local/lib/python3.10/dist-packages (from dataclasses-json<0.7,>=0.5.7->langchain-community) (0.9.0)\n",
            "Requirement already satisfied: langchain-text-splitters<0.4.0,>=0.3.0 in /usr/local/lib/python3.10/dist-packages (from langchain<0.4.0,>=0.3.4->langchain-community) (0.3.0)\n",
            "Requirement already satisfied: pydantic<3.0.0,>=2.7.4 in /usr/local/lib/python3.10/dist-packages (from langchain<0.4.0,>=0.3.4->langchain-community) (2.9.2)\n",
            "Requirement already satisfied: jsonpatch<2.0,>=1.33 in /usr/local/lib/python3.10/dist-packages (from langchain-core<0.4.0,>=0.3.12->langchain-community) (1.33)\n",
            "Requirement already satisfied: packaging<25,>=23.2 in /usr/local/lib/python3.10/dist-packages (from langchain-core<0.4.0,>=0.3.12->langchain-community) (24.1)\n",
            "Requirement already satisfied: typing-extensions>=4.7 in /usr/local/lib/python3.10/dist-packages (from langchain-core<0.4.0,>=0.3.12->langchain-community) (4.12.2)\n",
            "Requirement already satisfied: httpx<1,>=0.23.0 in /usr/local/lib/python3.10/dist-packages (from langsmith<0.2.0,>=0.1.125->langchain-community) (0.27.2)\n",
            "Requirement already satisfied: orjson<4.0.0,>=3.9.14 in /usr/local/lib/python3.10/dist-packages (from langsmith<0.2.0,>=0.1.125->langchain-community) (3.10.9)\n",
            "Requirement already satisfied: requests-toolbelt<2.0.0,>=1.0.0 in /usr/local/lib/python3.10/dist-packages (from langsmith<0.2.0,>=0.1.125->langchain-community) (1.0.0)\n",
            "Requirement already satisfied: python-dotenv>=0.21.0 in /usr/local/lib/python3.10/dist-packages (from pydantic-settings<3.0.0,>=2.4.0->langchain-community) (1.0.1)\n",
            "Requirement already satisfied: charset-normalizer<4,>=2 in /usr/local/lib/python3.10/dist-packages (from requests<3,>=2->langchain-community) (3.4.0)\n",
            "Requirement already satisfied: idna<4,>=2.5 in /usr/local/lib/python3.10/dist-packages (from requests<3,>=2->langchain-community) (3.10)\n",
            "Requirement already satisfied: urllib3<3,>=1.21.1 in /usr/local/lib/python3.10/dist-packages (from requests<3,>=2->langchain-community) (2.2.3)\n",
            "Requirement already satisfied: certifi>=2017.4.17 in /usr/local/lib/python3.10/dist-packages (from requests<3,>=2->langchain-community) (2024.8.30)\n",
            "Requirement already satisfied: greenlet!=0.4.17 in /usr/local/lib/python3.10/dist-packages (from SQLAlchemy<3,>=1.4->langchain-community) (3.1.1)\n",
            "Requirement already satisfied: anyio in /usr/local/lib/python3.10/dist-packages (from httpx<1,>=0.23.0->langsmith<0.2.0,>=0.1.125->langchain-community) (3.7.1)\n",
            "Requirement already satisfied: httpcore==1.* in /usr/local/lib/python3.10/dist-packages (from httpx<1,>=0.23.0->langsmith<0.2.0,>=0.1.125->langchain-community) (1.0.6)\n",
            "Requirement already satisfied: sniffio in /usr/local/lib/python3.10/dist-packages (from httpx<1,>=0.23.0->langsmith<0.2.0,>=0.1.125->langchain-community) (1.3.1)\n",
            "Requirement already satisfied: h11<0.15,>=0.13 in /usr/local/lib/python3.10/dist-packages (from httpcore==1.*->httpx<1,>=0.23.0->langsmith<0.2.0,>=0.1.125->langchain-community) (0.14.0)\n",
            "Requirement already satisfied: jsonpointer>=1.9 in /usr/local/lib/python3.10/dist-packages (from jsonpatch<2.0,>=1.33->langchain-core<0.4.0,>=0.3.12->langchain-community) (3.0.0)\n",
            "Requirement already satisfied: annotated-types>=0.6.0 in /usr/local/lib/python3.10/dist-packages (from pydantic<3.0.0,>=2.7.4->langchain<0.4.0,>=0.3.4->langchain-community) (0.7.0)\n",
            "Requirement already satisfied: pydantic-core==2.23.4 in /usr/local/lib/python3.10/dist-packages (from pydantic<3.0.0,>=2.7.4->langchain<0.4.0,>=0.3.4->langchain-community) (2.23.4)\n",
            "Requirement already satisfied: mypy-extensions>=0.3.0 in /usr/local/lib/python3.10/dist-packages (from typing-inspect<1,>=0.4.0->dataclasses-json<0.7,>=0.5.7->langchain-community) (1.0.0)\n",
            "Requirement already satisfied: propcache>=0.2.0 in /usr/local/lib/python3.10/dist-packages (from yarl<2.0,>=1.12.0->aiohttp<4.0.0,>=3.8.3->langchain-community) (0.2.0)\n",
            "Requirement already satisfied: exceptiongroup in /usr/local/lib/python3.10/dist-packages (from anyio->httpx<1,>=0.23.0->langsmith<0.2.0,>=0.1.125->langchain-community) (1.2.2)\n"
          ]
        }
      ]
    },
    {
      "cell_type": "code",
      "source": [
        "!pip install llama-index-embeddings-langchain"
      ],
      "metadata": {
        "colab": {
          "base_uri": "https://localhost:8080/"
        },
        "id": "lrB7cwB5YsRo",
        "outputId": "3982fbb3-af63-4ef4-9a30-a4cc1010ae6c"
      },
      "execution_count": 14,
      "outputs": [
        {
          "output_type": "stream",
          "name": "stdout",
          "text": [
            "Requirement already satisfied: llama-index-embeddings-langchain in /usr/local/lib/python3.10/dist-packages (0.2.1)\n",
            "Requirement already satisfied: llama-index-core<0.12.0,>=0.11.0 in /usr/local/lib/python3.10/dist-packages (from llama-index-embeddings-langchain) (0.11.19)\n",
            "Requirement already satisfied: PyYAML>=6.0.1 in /usr/local/lib/python3.10/dist-packages (from llama-index-core<0.12.0,>=0.11.0->llama-index-embeddings-langchain) (6.0.2)\n",
            "Requirement already satisfied: SQLAlchemy>=1.4.49 in /usr/local/lib/python3.10/dist-packages (from SQLAlchemy[asyncio]>=1.4.49->llama-index-core<0.12.0,>=0.11.0->llama-index-embeddings-langchain) (2.0.36)\n",
            "Requirement already satisfied: aiohttp<4.0.0,>=3.8.6 in /usr/local/lib/python3.10/dist-packages (from llama-index-core<0.12.0,>=0.11.0->llama-index-embeddings-langchain) (3.10.10)\n",
            "Requirement already satisfied: dataclasses-json in /usr/local/lib/python3.10/dist-packages (from llama-index-core<0.12.0,>=0.11.0->llama-index-embeddings-langchain) (0.6.7)\n",
            "Requirement already satisfied: deprecated>=1.2.9.3 in /usr/local/lib/python3.10/dist-packages (from llama-index-core<0.12.0,>=0.11.0->llama-index-embeddings-langchain) (1.2.14)\n",
            "Requirement already satisfied: dirtyjson<2.0.0,>=1.0.8 in /usr/local/lib/python3.10/dist-packages (from llama-index-core<0.12.0,>=0.11.0->llama-index-embeddings-langchain) (1.0.8)\n",
            "Requirement already satisfied: fsspec>=2023.5.0 in /usr/local/lib/python3.10/dist-packages (from llama-index-core<0.12.0,>=0.11.0->llama-index-embeddings-langchain) (2024.6.1)\n",
            "Requirement already satisfied: httpx in /usr/local/lib/python3.10/dist-packages (from llama-index-core<0.12.0,>=0.11.0->llama-index-embeddings-langchain) (0.27.2)\n",
            "Requirement already satisfied: nest-asyncio<2.0.0,>=1.5.8 in /usr/local/lib/python3.10/dist-packages (from llama-index-core<0.12.0,>=0.11.0->llama-index-embeddings-langchain) (1.6.0)\n",
            "Requirement already satisfied: networkx>=3.0 in /usr/local/lib/python3.10/dist-packages (from llama-index-core<0.12.0,>=0.11.0->llama-index-embeddings-langchain) (3.4.1)\n",
            "Requirement already satisfied: nltk>3.8.1 in /usr/local/lib/python3.10/dist-packages (from llama-index-core<0.12.0,>=0.11.0->llama-index-embeddings-langchain) (3.9.1)\n",
            "Requirement already satisfied: numpy<2.0.0 in /usr/local/lib/python3.10/dist-packages (from llama-index-core<0.12.0,>=0.11.0->llama-index-embeddings-langchain) (1.26.4)\n",
            "Requirement already satisfied: pillow>=9.0.0 in /usr/local/lib/python3.10/dist-packages (from llama-index-core<0.12.0,>=0.11.0->llama-index-embeddings-langchain) (10.4.0)\n",
            "Requirement already satisfied: pydantic<3.0.0,>=2.7.0 in /usr/local/lib/python3.10/dist-packages (from llama-index-core<0.12.0,>=0.11.0->llama-index-embeddings-langchain) (2.9.2)\n",
            "Requirement already satisfied: requests>=2.31.0 in /usr/local/lib/python3.10/dist-packages (from llama-index-core<0.12.0,>=0.11.0->llama-index-embeddings-langchain) (2.32.3)\n",
            "Requirement already satisfied: tenacity!=8.4.0,<9.0.0,>=8.2.0 in /usr/local/lib/python3.10/dist-packages (from llama-index-core<0.12.0,>=0.11.0->llama-index-embeddings-langchain) (8.5.0)\n",
            "Requirement already satisfied: tiktoken>=0.3.3 in /usr/local/lib/python3.10/dist-packages (from llama-index-core<0.12.0,>=0.11.0->llama-index-embeddings-langchain) (0.8.0)\n",
            "Requirement already satisfied: tqdm<5.0.0,>=4.66.1 in /usr/local/lib/python3.10/dist-packages (from llama-index-core<0.12.0,>=0.11.0->llama-index-embeddings-langchain) (4.66.5)\n",
            "Requirement already satisfied: typing-extensions>=4.5.0 in /usr/local/lib/python3.10/dist-packages (from llama-index-core<0.12.0,>=0.11.0->llama-index-embeddings-langchain) (4.12.2)\n",
            "Requirement already satisfied: typing-inspect>=0.8.0 in /usr/local/lib/python3.10/dist-packages (from llama-index-core<0.12.0,>=0.11.0->llama-index-embeddings-langchain) (0.9.0)\n",
            "Requirement already satisfied: wrapt in /usr/local/lib/python3.10/dist-packages (from llama-index-core<0.12.0,>=0.11.0->llama-index-embeddings-langchain) (1.16.0)\n",
            "Requirement already satisfied: aiohappyeyeballs>=2.3.0 in /usr/local/lib/python3.10/dist-packages (from aiohttp<4.0.0,>=3.8.6->llama-index-core<0.12.0,>=0.11.0->llama-index-embeddings-langchain) (2.4.3)\n",
            "Requirement already satisfied: aiosignal>=1.1.2 in /usr/local/lib/python3.10/dist-packages (from aiohttp<4.0.0,>=3.8.6->llama-index-core<0.12.0,>=0.11.0->llama-index-embeddings-langchain) (1.3.1)\n",
            "Requirement already satisfied: attrs>=17.3.0 in /usr/local/lib/python3.10/dist-packages (from aiohttp<4.0.0,>=3.8.6->llama-index-core<0.12.0,>=0.11.0->llama-index-embeddings-langchain) (24.2.0)\n",
            "Requirement already satisfied: frozenlist>=1.1.1 in /usr/local/lib/python3.10/dist-packages (from aiohttp<4.0.0,>=3.8.6->llama-index-core<0.12.0,>=0.11.0->llama-index-embeddings-langchain) (1.4.1)\n",
            "Requirement already satisfied: multidict<7.0,>=4.5 in /usr/local/lib/python3.10/dist-packages (from aiohttp<4.0.0,>=3.8.6->llama-index-core<0.12.0,>=0.11.0->llama-index-embeddings-langchain) (6.1.0)\n",
            "Requirement already satisfied: yarl<2.0,>=1.12.0 in /usr/local/lib/python3.10/dist-packages (from aiohttp<4.0.0,>=3.8.6->llama-index-core<0.12.0,>=0.11.0->llama-index-embeddings-langchain) (1.15.2)\n",
            "Requirement already satisfied: async-timeout<5.0,>=4.0 in /usr/local/lib/python3.10/dist-packages (from aiohttp<4.0.0,>=3.8.6->llama-index-core<0.12.0,>=0.11.0->llama-index-embeddings-langchain) (4.0.3)\n",
            "Requirement already satisfied: click in /usr/local/lib/python3.10/dist-packages (from nltk>3.8.1->llama-index-core<0.12.0,>=0.11.0->llama-index-embeddings-langchain) (8.1.7)\n",
            "Requirement already satisfied: joblib in /usr/local/lib/python3.10/dist-packages (from nltk>3.8.1->llama-index-core<0.12.0,>=0.11.0->llama-index-embeddings-langchain) (1.4.2)\n",
            "Requirement already satisfied: regex>=2021.8.3 in /usr/local/lib/python3.10/dist-packages (from nltk>3.8.1->llama-index-core<0.12.0,>=0.11.0->llama-index-embeddings-langchain) (2024.9.11)\n",
            "Requirement already satisfied: annotated-types>=0.6.0 in /usr/local/lib/python3.10/dist-packages (from pydantic<3.0.0,>=2.7.0->llama-index-core<0.12.0,>=0.11.0->llama-index-embeddings-langchain) (0.7.0)\n",
            "Requirement already satisfied: pydantic-core==2.23.4 in /usr/local/lib/python3.10/dist-packages (from pydantic<3.0.0,>=2.7.0->llama-index-core<0.12.0,>=0.11.0->llama-index-embeddings-langchain) (2.23.4)\n",
            "Requirement already satisfied: charset-normalizer<4,>=2 in /usr/local/lib/python3.10/dist-packages (from requests>=2.31.0->llama-index-core<0.12.0,>=0.11.0->llama-index-embeddings-langchain) (3.4.0)\n",
            "Requirement already satisfied: idna<4,>=2.5 in /usr/local/lib/python3.10/dist-packages (from requests>=2.31.0->llama-index-core<0.12.0,>=0.11.0->llama-index-embeddings-langchain) (3.10)\n",
            "Requirement already satisfied: urllib3<3,>=1.21.1 in /usr/local/lib/python3.10/dist-packages (from requests>=2.31.0->llama-index-core<0.12.0,>=0.11.0->llama-index-embeddings-langchain) (2.2.3)\n",
            "Requirement already satisfied: certifi>=2017.4.17 in /usr/local/lib/python3.10/dist-packages (from requests>=2.31.0->llama-index-core<0.12.0,>=0.11.0->llama-index-embeddings-langchain) (2024.8.30)\n",
            "Requirement already satisfied: greenlet!=0.4.17 in /usr/local/lib/python3.10/dist-packages (from SQLAlchemy>=1.4.49->SQLAlchemy[asyncio]>=1.4.49->llama-index-core<0.12.0,>=0.11.0->llama-index-embeddings-langchain) (3.1.1)\n",
            "Requirement already satisfied: mypy-extensions>=0.3.0 in /usr/local/lib/python3.10/dist-packages (from typing-inspect>=0.8.0->llama-index-core<0.12.0,>=0.11.0->llama-index-embeddings-langchain) (1.0.0)\n",
            "Requirement already satisfied: marshmallow<4.0.0,>=3.18.0 in /usr/local/lib/python3.10/dist-packages (from dataclasses-json->llama-index-core<0.12.0,>=0.11.0->llama-index-embeddings-langchain) (3.23.0)\n",
            "Requirement already satisfied: anyio in /usr/local/lib/python3.10/dist-packages (from httpx->llama-index-core<0.12.0,>=0.11.0->llama-index-embeddings-langchain) (3.7.1)\n",
            "Requirement already satisfied: httpcore==1.* in /usr/local/lib/python3.10/dist-packages (from httpx->llama-index-core<0.12.0,>=0.11.0->llama-index-embeddings-langchain) (1.0.6)\n",
            "Requirement already satisfied: sniffio in /usr/local/lib/python3.10/dist-packages (from httpx->llama-index-core<0.12.0,>=0.11.0->llama-index-embeddings-langchain) (1.3.1)\n",
            "Requirement already satisfied: h11<0.15,>=0.13 in /usr/local/lib/python3.10/dist-packages (from httpcore==1.*->httpx->llama-index-core<0.12.0,>=0.11.0->llama-index-embeddings-langchain) (0.14.0)\n",
            "Requirement already satisfied: packaging>=17.0 in /usr/local/lib/python3.10/dist-packages (from marshmallow<4.0.0,>=3.18.0->dataclasses-json->llama-index-core<0.12.0,>=0.11.0->llama-index-embeddings-langchain) (24.1)\n",
            "Requirement already satisfied: propcache>=0.2.0 in /usr/local/lib/python3.10/dist-packages (from yarl<2.0,>=1.12.0->aiohttp<4.0.0,>=3.8.6->llama-index-core<0.12.0,>=0.11.0->llama-index-embeddings-langchain) (0.2.0)\n",
            "Requirement already satisfied: exceptiongroup in /usr/local/lib/python3.10/dist-packages (from anyio->httpx->llama-index-core<0.12.0,>=0.11.0->llama-index-embeddings-langchain) (1.2.2)\n"
          ]
        }
      ]
    },
    {
      "cell_type": "code",
      "source": [
        "from langchain.embeddings.huggingface import HuggingFaceEmbeddings\n",
        "from llama_index.core import ServiceContext\n",
        "from llama_index.embeddings.langchain import LangchainEmbedding\n",
        "\n",
        "embed_model = LangchainEmbedding(\n",
        "  HuggingFaceEmbeddings(model_name=\"sentence-transformers/all-mpnet-base-v2\")\n",
        ")"
      ],
      "metadata": {
        "colab": {
          "base_uri": "https://localhost:8080/"
        },
        "id": "jhM7KosyYxcs",
        "outputId": "b450e885-dc12-43b4-cc42-30600c176ae5"
      },
      "execution_count": 15,
      "outputs": [
        {
          "output_type": "stream",
          "name": "stderr",
          "text": [
            "<ipython-input-15-c0642a031c0c>:6: LangChainDeprecationWarning: The class `HuggingFaceEmbeddings` was deprecated in LangChain 0.2.2 and will be removed in 1.0. An updated version of the class exists in the :class:`~langchain-huggingface package and should be used instead. To use it run `pip install -U :class:`~langchain-huggingface` and import as `from :class:`~langchain_huggingface import HuggingFaceEmbeddings``.\n",
            "  HuggingFaceEmbeddings(model_name=\"sentence-transformers/all-mpnet-base-v2\")\n"
          ]
        }
      ]
    },
    {
      "cell_type": "code",
      "source": [
        "from llama_index.core import Settings\n",
        "Settings.llm = llm\n",
        "Settings.embed_model = embed_model"
      ],
      "metadata": {
        "id": "XBmIEY7dY4KS"
      },
      "execution_count": 16,
      "outputs": []
    },
    {
      "cell_type": "code",
      "source": [
        "index = VectorStoreIndex.from_documents(documents, embed_model=Settings.embed_model)"
      ],
      "metadata": {
        "id": "faXf3pnsaBea"
      },
      "execution_count": 17,
      "outputs": []
    },
    {
      "cell_type": "code",
      "source": [
        "index"
      ],
      "metadata": {
        "colab": {
          "base_uri": "https://localhost:8080/"
        },
        "id": "cO3o_UqXauVU",
        "outputId": "d8e30eff-8241-4902-8d0c-49afc7b05556"
      },
      "execution_count": 18,
      "outputs": [
        {
          "output_type": "execute_result",
          "data": {
            "text/plain": [
              "<llama_index.core.indices.vector_store.base.VectorStoreIndex at 0x7ab237e4ea10>"
            ]
          },
          "metadata": {},
          "execution_count": 18
        }
      ]
    },
    {
      "cell_type": "code",
      "source": [
        "query_engine=index.as_query_engine()"
      ],
      "metadata": {
        "id": "F-rNELCmayRj"
      },
      "execution_count": 19,
      "outputs": []
    },
    {
      "cell_type": "code",
      "source": [
        "response=query_engine.query(\"What is this pdf about?\")"
      ],
      "metadata": {
        "id": "bVJTBSZra1Ih"
      },
      "execution_count": 22,
      "outputs": []
    },
    {
      "cell_type": "code",
      "source": [
        "print(response)"
      ],
      "metadata": {
        "colab": {
          "base_uri": "https://localhost:8080/"
        },
        "id": "dPXG_m0ybEHh",
        "outputId": "1cda5cdc-a0ec-4051-a04d-178bc8ca7817"
      },
      "execution_count": 23,
      "outputs": [
        {
          "output_type": "stream",
          "name": "stdout",
          "text": [
            "This PDF appears to be a module manual for a Master of Science in Applied Computer Science program. The manual provides an overview of the program, its objectives, and the courses offered. It also includes information on the program structure, assessment methods, and graduation requirements. Based on the content on Page 26, the program seems to have a strong focus on software engineering and computer networks.\n"
          ]
        }
      ]
    }
  ]
}